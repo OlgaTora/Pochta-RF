{
  "cells": [
    {
      "cell_type": "markdown",
      "source": [
        "Весь процесс доставки — от приема в отделении до вручения получателю — состоит из большого числа операций. Отправление запаковывают, перевозят на склад и транспортируют между сортировочными пунктами. Если доставка едет из-за границы, то дополнительно появляются операции на зарубежной и российской таможне.\n",
        "\n",
        "Ускорить и удешевить доставку помогают крупные логистические хабы. Там мелкие грузы сортируются и отправляются в соседние регионы или собираются в новые контейнеры для отправки в другие макрорегионы. Таким образом, почтовые отправления путешествуют по сети сортировочных центров, как кровь по капиллярам, и в конце концов добираются в любые точки нашей страны.\n",
        "\n",
        "Несмотря на высокий уровень системы безопасности, по-прежнему остается риск пропаж или порчи отправлений: перемещений и операций с посылками очень много, кроме того, в процессе может сыграть человеческий фактор.\n",
        "\n",
        "Точное предсказание пропаж и их локализация позволит повысить надежность системы — гарантировать доставку отправлений в срок и снизить расходы на транспортировку. Предлагаем участникам чемпионата решить эту задачу — разработать модель предсказания потери почтовых отправлений."
      ],
      "metadata": {
        "id": "_9sxGwpkt81T"
      }
    },
    {
      "cell_type": "markdown",
      "metadata": {
        "id": "jFxeVTRd54gI"
      },
      "source": [
        "# Import and description of dataset\n",
        "\n"
      ]
    },
    {
      "cell_type": "code",
      "execution_count": null,
      "metadata": {
        "id": "dR1xtkZFrvIs"
      },
      "outputs": [],
      "source": [
        "from plotly import express\n",
        "import pandas as pd\n",
        "import numpy as np\n",
        "import seaborn as sns\n",
        "import plotly.express as px\n",
        "import matplotlib.pyplot as plt\n",
        "%matplotlib inline\n",
        "\n",
        "from sklearn.metrics import recall_score\n",
        "from sklearn.metrics import ConfusionMatrixDisplay, confusion_matrix\n",
        "from sklearn.model_selection import train_test_split\n",
        "import math\n",
        "\n",
        "from sklearn.metrics import accuracy_score, f1_score, roc_auc_score, precision_score\n",
        "from sklearn import metrics  \n",
        "from sklearn import preprocessing\n",
        "\n",
        "pd.set_option('display.max_columns',100) \n",
        "pd.set_option('display.max_rows',100)"
      ]
    },
    {
      "cell_type": "code",
      "source": [
        "df = pd.read_csv('/content/drive/MyDrive/train_dataset_pochta.csv')"
      ],
      "metadata": {
        "id": "tHRPqnaKaGOr",
        "colab": {
          "base_uri": "https://localhost:8080/"
        },
        "outputId": "2cdb9cbe-e922-4884-e0a4-982d6a719552"
      },
      "execution_count": null,
      "outputs": [
        {
          "output_type": "stream",
          "name": "stderr",
          "text": [
            "/usr/local/lib/python3.7/dist-packages/IPython/core/interactiveshell.py:3326: DtypeWarning: Columns (2) have mixed types.Specify dtype option on import or set low_memory=False.\n",
            "  exec(code_obj, self.user_global_ns, self.user_ns)\n"
          ]
        }
      ]
    },
    {
      "cell_type": "markdown",
      "metadata": {
        "id": "oJgPNSxb6PGc"
      },
      "source": [
        "# EDA & Feature engeeniring"
      ]
    },
    {
      "cell_type": "markdown",
      "source": [
        "Пояснения к столбцам\n",
        "1. oper_type + oper_attr Тип и атрибут операции\n",
        "2. index_oper Индекс места операции\n",
        "3. type Обозначение типа объекта почтовой связи\n",
        "4. priority Приоритет объекта\n",
        "5. is_privatecategory Y - является отделением закрытого типа N - иначе\n",
        "6. class Значение класса или категории объекта почтовой связи\n",
        "7. is_in_yandex Y - адрес отделения связи отображается в Яндекс-картах N - иначе\n",
        "8. is_return Y - Отправление движется в направлении возврата отправителю N  иначе\n",
        "9. weight Вес в граммах\n",
        "10. mailtype Код вида отправления\n",
        "11. mailctg Код категории почтового отправления\n",
        "12. mailrank Код разряда почтового отправления\n",
        "13. directctg Код классификации отправления\n",
        "14. transport_pay Общая сумма платы за пересылку в условной валюте\n",
        "15. postmark Код отметки\n",
        "16. name_mfi Наименование вложений, указывается на бирке отправления\n",
        "17. weight_mfi Суммарная масса вложений\n",
        "18. price_mfi Суммарная стоимость вложений в условной валюте\n",
        "19. dist_qty_oper_login_1 Количество уникальных имен операторов, задействованных в обработке данного типа отправлений (mailtype) на конкретном индексе, по которым возможно идентифицировать оператора\n",
        "20. total_qty_oper_login_1 Количество отправлений с уникальным именем операторов,\n",
        "задействованных в обработке данного типа отправлений (mailtype) на конкретном индексе, по которым возможно идентифицировать оператора\n",
        "21. total_qty_oper_login_0 Количество отправлений данного типа (mailtype), которые были обработаны неизвестным оператором на этом индексе\n",
        "22. total_qty_over_index_and_type Общее количество отправлений данного типа (mailtype),  прошедших обработку на этом индексе\n",
        "23. total_qty_over_index Общее количество отправлений, прошедших обработку\n",
        "на этом индексе\n",
        "24. is_wrong_sndr_name Есть ли явные признаки, что имя отправителя введено некорректно? 1 - да, 0 - иначе\n",
        "25. is_wrong_rcpn_name Есть ли явные признаки, что имя получателя введено\n",
        "некорректно? 1 - да, 0 - иначе\n",
        "26. is_wrong_phone_number Есть ли явные признаки, что номер телефона получателя\n",
        "введен некорректно? 1 - да, 0 - иначе\n",
        "27. is_wrong_address Есть ли явные признаки, что адрес получателя введен\n",
        "некорректно? 1 - да, 0 - иначе\n",
        "28. label\n",
        "СТРОКА ДЛЯ ПРЕДСКАЗАНИЯ\n",
        "1 - операция, на которой цифровой след оборвался, т.к.\n",
        "отправление потеряно\n",
        "0 - отправление было вручено или возвращено jтправителю\n"
      ],
      "metadata": {
        "id": "0SF1rLKdDr5n"
      }
    },
    {
      "cell_type": "code",
      "source": [
        "df.head(2)"
      ],
      "metadata": {
        "colab": {
          "base_uri": "https://localhost:8080/",
          "height": 246
        },
        "id": "XHD77iySdwly",
        "outputId": "e6a29182-f929-40a9-8c7e-70434d1f39c0"
      },
      "execution_count": null,
      "outputs": [
        {
          "output_type": "execute_result",
          "data": {
            "text/plain": [
              "        id oper_type + oper_attr index_oper     type  priority  \\\n",
              "0  6818780               1043_-1   628629.0  Участок    7503.0   \n",
              "1  9907176               1023_-1   102976.0     ММПО    7503.0   \n",
              "\n",
              "  is_privatecategory  class is_in_yandex is_return  weight  mailtype  mailctg  \\\n",
              "0                  N    0.0            Y         N    87.0       5.0      1.0   \n",
              "1                  N    0.0            N         N   107.0       5.0      1.0   \n",
              "\n",
              "   mailrank  directctg  transport_pay  postmark  \\\n",
              "0       0.0        2.0            0.0       0.0   \n",
              "1       0.0        2.0            0.0       0.0   \n",
              "\n",
              "                                       name_mfi  weight_mfi  price_mfi  \\\n",
              "0                                  Fishhook,USB        41.0      150.0   \n",
              "1  screen protector,Case(Q613B),case(208B40-DB)        68.0      400.0   \n",
              "\n",
              "   dist_qty_oper_login_1  total_qty_oper_login_1  total_qty_oper_login_0  \\\n",
              "0                   42.0                720176.0                 58950.0   \n",
              "1                  914.0              48856658.0              83318932.0   \n",
              "\n",
              "   total_qty_over_index_and_type  total_qty_over_index  is_wrong_sndr_name  \\\n",
              "0                       779126.0             8290896.0                   0   \n",
              "1                    132175590.0           136819803.0                   0   \n",
              "\n",
              "   is_wrong_rcpn_name  is_wrong_phone_number  is_wrong_address  label  \n",
              "0                   0                      0                 0      0  \n",
              "1                   0                      0                 0      0  "
            ],
            "text/html": [
              "\n",
              "  <div id=\"df-a8fa9ae0-b313-40cb-923c-1d7072893454\">\n",
              "    <div class=\"colab-df-container\">\n",
              "      <div>\n",
              "<style scoped>\n",
              "    .dataframe tbody tr th:only-of-type {\n",
              "        vertical-align: middle;\n",
              "    }\n",
              "\n",
              "    .dataframe tbody tr th {\n",
              "        vertical-align: top;\n",
              "    }\n",
              "\n",
              "    .dataframe thead th {\n",
              "        text-align: right;\n",
              "    }\n",
              "</style>\n",
              "<table border=\"1\" class=\"dataframe\">\n",
              "  <thead>\n",
              "    <tr style=\"text-align: right;\">\n",
              "      <th></th>\n",
              "      <th>id</th>\n",
              "      <th>oper_type + oper_attr</th>\n",
              "      <th>index_oper</th>\n",
              "      <th>type</th>\n",
              "      <th>priority</th>\n",
              "      <th>is_privatecategory</th>\n",
              "      <th>class</th>\n",
              "      <th>is_in_yandex</th>\n",
              "      <th>is_return</th>\n",
              "      <th>weight</th>\n",
              "      <th>mailtype</th>\n",
              "      <th>mailctg</th>\n",
              "      <th>mailrank</th>\n",
              "      <th>directctg</th>\n",
              "      <th>transport_pay</th>\n",
              "      <th>postmark</th>\n",
              "      <th>name_mfi</th>\n",
              "      <th>weight_mfi</th>\n",
              "      <th>price_mfi</th>\n",
              "      <th>dist_qty_oper_login_1</th>\n",
              "      <th>total_qty_oper_login_1</th>\n",
              "      <th>total_qty_oper_login_0</th>\n",
              "      <th>total_qty_over_index_and_type</th>\n",
              "      <th>total_qty_over_index</th>\n",
              "      <th>is_wrong_sndr_name</th>\n",
              "      <th>is_wrong_rcpn_name</th>\n",
              "      <th>is_wrong_phone_number</th>\n",
              "      <th>is_wrong_address</th>\n",
              "      <th>label</th>\n",
              "    </tr>\n",
              "  </thead>\n",
              "  <tbody>\n",
              "    <tr>\n",
              "      <th>0</th>\n",
              "      <td>6818780</td>\n",
              "      <td>1043_-1</td>\n",
              "      <td>628629.0</td>\n",
              "      <td>Участок</td>\n",
              "      <td>7503.0</td>\n",
              "      <td>N</td>\n",
              "      <td>0.0</td>\n",
              "      <td>Y</td>\n",
              "      <td>N</td>\n",
              "      <td>87.0</td>\n",
              "      <td>5.0</td>\n",
              "      <td>1.0</td>\n",
              "      <td>0.0</td>\n",
              "      <td>2.0</td>\n",
              "      <td>0.0</td>\n",
              "      <td>0.0</td>\n",
              "      <td>Fishhook,USB</td>\n",
              "      <td>41.0</td>\n",
              "      <td>150.0</td>\n",
              "      <td>42.0</td>\n",
              "      <td>720176.0</td>\n",
              "      <td>58950.0</td>\n",
              "      <td>779126.0</td>\n",
              "      <td>8290896.0</td>\n",
              "      <td>0</td>\n",
              "      <td>0</td>\n",
              "      <td>0</td>\n",
              "      <td>0</td>\n",
              "      <td>0</td>\n",
              "    </tr>\n",
              "    <tr>\n",
              "      <th>1</th>\n",
              "      <td>9907176</td>\n",
              "      <td>1023_-1</td>\n",
              "      <td>102976.0</td>\n",
              "      <td>ММПО</td>\n",
              "      <td>7503.0</td>\n",
              "      <td>N</td>\n",
              "      <td>0.0</td>\n",
              "      <td>N</td>\n",
              "      <td>N</td>\n",
              "      <td>107.0</td>\n",
              "      <td>5.0</td>\n",
              "      <td>1.0</td>\n",
              "      <td>0.0</td>\n",
              "      <td>2.0</td>\n",
              "      <td>0.0</td>\n",
              "      <td>0.0</td>\n",
              "      <td>screen protector,Case(Q613B),case(208B40-DB)</td>\n",
              "      <td>68.0</td>\n",
              "      <td>400.0</td>\n",
              "      <td>914.0</td>\n",
              "      <td>48856658.0</td>\n",
              "      <td>83318932.0</td>\n",
              "      <td>132175590.0</td>\n",
              "      <td>136819803.0</td>\n",
              "      <td>0</td>\n",
              "      <td>0</td>\n",
              "      <td>0</td>\n",
              "      <td>0</td>\n",
              "      <td>0</td>\n",
              "    </tr>\n",
              "  </tbody>\n",
              "</table>\n",
              "</div>\n",
              "      <button class=\"colab-df-convert\" onclick=\"convertToInteractive('df-a8fa9ae0-b313-40cb-923c-1d7072893454')\"\n",
              "              title=\"Convert this dataframe to an interactive table.\"\n",
              "              style=\"display:none;\">\n",
              "        \n",
              "  <svg xmlns=\"http://www.w3.org/2000/svg\" height=\"24px\"viewBox=\"0 0 24 24\"\n",
              "       width=\"24px\">\n",
              "    <path d=\"M0 0h24v24H0V0z\" fill=\"none\"/>\n",
              "    <path d=\"M18.56 5.44l.94 2.06.94-2.06 2.06-.94-2.06-.94-.94-2.06-.94 2.06-2.06.94zm-11 1L8.5 8.5l.94-2.06 2.06-.94-2.06-.94L8.5 2.5l-.94 2.06-2.06.94zm10 10l.94 2.06.94-2.06 2.06-.94-2.06-.94-.94-2.06-.94 2.06-2.06.94z\"/><path d=\"M17.41 7.96l-1.37-1.37c-.4-.4-.92-.59-1.43-.59-.52 0-1.04.2-1.43.59L10.3 9.45l-7.72 7.72c-.78.78-.78 2.05 0 2.83L4 21.41c.39.39.9.59 1.41.59.51 0 1.02-.2 1.41-.59l7.78-7.78 2.81-2.81c.8-.78.8-2.07 0-2.86zM5.41 20L4 18.59l7.72-7.72 1.47 1.35L5.41 20z\"/>\n",
              "  </svg>\n",
              "      </button>\n",
              "      \n",
              "  <style>\n",
              "    .colab-df-container {\n",
              "      display:flex;\n",
              "      flex-wrap:wrap;\n",
              "      gap: 12px;\n",
              "    }\n",
              "\n",
              "    .colab-df-convert {\n",
              "      background-color: #E8F0FE;\n",
              "      border: none;\n",
              "      border-radius: 50%;\n",
              "      cursor: pointer;\n",
              "      display: none;\n",
              "      fill: #1967D2;\n",
              "      height: 32px;\n",
              "      padding: 0 0 0 0;\n",
              "      width: 32px;\n",
              "    }\n",
              "\n",
              "    .colab-df-convert:hover {\n",
              "      background-color: #E2EBFA;\n",
              "      box-shadow: 0px 1px 2px rgba(60, 64, 67, 0.3), 0px 1px 3px 1px rgba(60, 64, 67, 0.15);\n",
              "      fill: #174EA6;\n",
              "    }\n",
              "\n",
              "    [theme=dark] .colab-df-convert {\n",
              "      background-color: #3B4455;\n",
              "      fill: #D2E3FC;\n",
              "    }\n",
              "\n",
              "    [theme=dark] .colab-df-convert:hover {\n",
              "      background-color: #434B5C;\n",
              "      box-shadow: 0px 1px 3px 1px rgba(0, 0, 0, 0.15);\n",
              "      filter: drop-shadow(0px 1px 2px rgba(0, 0, 0, 0.3));\n",
              "      fill: #FFFFFF;\n",
              "    }\n",
              "  </style>\n",
              "\n",
              "      <script>\n",
              "        const buttonEl =\n",
              "          document.querySelector('#df-a8fa9ae0-b313-40cb-923c-1d7072893454 button.colab-df-convert');\n",
              "        buttonEl.style.display =\n",
              "          google.colab.kernel.accessAllowed ? 'block' : 'none';\n",
              "\n",
              "        async function convertToInteractive(key) {\n",
              "          const element = document.querySelector('#df-a8fa9ae0-b313-40cb-923c-1d7072893454');\n",
              "          const dataTable =\n",
              "            await google.colab.kernel.invokeFunction('convertToInteractive',\n",
              "                                                     [key], {});\n",
              "          if (!dataTable) return;\n",
              "\n",
              "          const docLinkHtml = 'Like what you see? Visit the ' +\n",
              "            '<a target=\"_blank\" href=https://colab.research.google.com/notebooks/data_table.ipynb>data table notebook</a>'\n",
              "            + ' to learn more about interactive tables.';\n",
              "          element.innerHTML = '';\n",
              "          dataTable['output_type'] = 'display_data';\n",
              "          await google.colab.output.renderOutput(dataTable, element);\n",
              "          const docLink = document.createElement('div');\n",
              "          docLink.innerHTML = docLinkHtml;\n",
              "          element.appendChild(docLink);\n",
              "        }\n",
              "      </script>\n",
              "    </div>\n",
              "  </div>\n",
              "  "
            ]
          },
          "metadata": {},
          "execution_count": 3
        }
      ]
    },
    {
      "cell_type": "code",
      "source": [
        "df.shape"
      ],
      "metadata": {
        "colab": {
          "base_uri": "https://localhost:8080/"
        },
        "id": "6jT5k0_L-tp1",
        "outputId": "b72bf85a-3e53-4aab-c02b-ced6b0eea6f2"
      },
      "execution_count": null,
      "outputs": [
        {
          "output_type": "execute_result",
          "data": {
            "text/plain": [
              "(6000000, 29)"
            ]
          },
          "metadata": {},
          "execution_count": 4
        }
      ]
    },
    {
      "cell_type": "code",
      "source": [
        "# проверка на дубликаты строк\n",
        "df.loc[df.duplicated()]"
      ],
      "metadata": {
        "colab": {
          "base_uri": "https://localhost:8080/",
          "height": 148
        },
        "id": "-ouEO-AC_ZmW",
        "outputId": "d771c73f-d797-4fc8-ba3e-526ec702edb9"
      },
      "execution_count": null,
      "outputs": [
        {
          "output_type": "execute_result",
          "data": {
            "text/plain": [
              "Empty DataFrame\n",
              "Columns: [id, oper_type + oper_attr, index_oper, type, priority, is_privatecategory, class, is_in_yandex, is_return, weight, mailtype, mailctg, mailrank, directctg, transport_pay, postmark, name_mfi, weight_mfi, price_mfi, dist_qty_oper_login_1, total_qty_oper_login_1, total_qty_oper_login_0, total_qty_over_index_and_type, total_qty_over_index, is_wrong_sndr_name, is_wrong_rcpn_name, is_wrong_phone_number, is_wrong_address, label]\n",
              "Index: []"
            ],
            "text/html": [
              "\n",
              "  <div id=\"df-8291f36f-30fe-4223-ae3b-cfd142e26a47\">\n",
              "    <div class=\"colab-df-container\">\n",
              "      <div>\n",
              "<style scoped>\n",
              "    .dataframe tbody tr th:only-of-type {\n",
              "        vertical-align: middle;\n",
              "    }\n",
              "\n",
              "    .dataframe tbody tr th {\n",
              "        vertical-align: top;\n",
              "    }\n",
              "\n",
              "    .dataframe thead th {\n",
              "        text-align: right;\n",
              "    }\n",
              "</style>\n",
              "<table border=\"1\" class=\"dataframe\">\n",
              "  <thead>\n",
              "    <tr style=\"text-align: right;\">\n",
              "      <th></th>\n",
              "      <th>id</th>\n",
              "      <th>oper_type + oper_attr</th>\n",
              "      <th>index_oper</th>\n",
              "      <th>type</th>\n",
              "      <th>priority</th>\n",
              "      <th>is_privatecategory</th>\n",
              "      <th>class</th>\n",
              "      <th>is_in_yandex</th>\n",
              "      <th>is_return</th>\n",
              "      <th>weight</th>\n",
              "      <th>mailtype</th>\n",
              "      <th>mailctg</th>\n",
              "      <th>mailrank</th>\n",
              "      <th>directctg</th>\n",
              "      <th>transport_pay</th>\n",
              "      <th>postmark</th>\n",
              "      <th>name_mfi</th>\n",
              "      <th>weight_mfi</th>\n",
              "      <th>price_mfi</th>\n",
              "      <th>dist_qty_oper_login_1</th>\n",
              "      <th>total_qty_oper_login_1</th>\n",
              "      <th>total_qty_oper_login_0</th>\n",
              "      <th>total_qty_over_index_and_type</th>\n",
              "      <th>total_qty_over_index</th>\n",
              "      <th>is_wrong_sndr_name</th>\n",
              "      <th>is_wrong_rcpn_name</th>\n",
              "      <th>is_wrong_phone_number</th>\n",
              "      <th>is_wrong_address</th>\n",
              "      <th>label</th>\n",
              "    </tr>\n",
              "  </thead>\n",
              "  <tbody>\n",
              "  </tbody>\n",
              "</table>\n",
              "</div>\n",
              "      <button class=\"colab-df-convert\" onclick=\"convertToInteractive('df-8291f36f-30fe-4223-ae3b-cfd142e26a47')\"\n",
              "              title=\"Convert this dataframe to an interactive table.\"\n",
              "              style=\"display:none;\">\n",
              "        \n",
              "  <svg xmlns=\"http://www.w3.org/2000/svg\" height=\"24px\"viewBox=\"0 0 24 24\"\n",
              "       width=\"24px\">\n",
              "    <path d=\"M0 0h24v24H0V0z\" fill=\"none\"/>\n",
              "    <path d=\"M18.56 5.44l.94 2.06.94-2.06 2.06-.94-2.06-.94-.94-2.06-.94 2.06-2.06.94zm-11 1L8.5 8.5l.94-2.06 2.06-.94-2.06-.94L8.5 2.5l-.94 2.06-2.06.94zm10 10l.94 2.06.94-2.06 2.06-.94-2.06-.94-.94-2.06-.94 2.06-2.06.94z\"/><path d=\"M17.41 7.96l-1.37-1.37c-.4-.4-.92-.59-1.43-.59-.52 0-1.04.2-1.43.59L10.3 9.45l-7.72 7.72c-.78.78-.78 2.05 0 2.83L4 21.41c.39.39.9.59 1.41.59.51 0 1.02-.2 1.41-.59l7.78-7.78 2.81-2.81c.8-.78.8-2.07 0-2.86zM5.41 20L4 18.59l7.72-7.72 1.47 1.35L5.41 20z\"/>\n",
              "  </svg>\n",
              "      </button>\n",
              "      \n",
              "  <style>\n",
              "    .colab-df-container {\n",
              "      display:flex;\n",
              "      flex-wrap:wrap;\n",
              "      gap: 12px;\n",
              "    }\n",
              "\n",
              "    .colab-df-convert {\n",
              "      background-color: #E8F0FE;\n",
              "      border: none;\n",
              "      border-radius: 50%;\n",
              "      cursor: pointer;\n",
              "      display: none;\n",
              "      fill: #1967D2;\n",
              "      height: 32px;\n",
              "      padding: 0 0 0 0;\n",
              "      width: 32px;\n",
              "    }\n",
              "\n",
              "    .colab-df-convert:hover {\n",
              "      background-color: #E2EBFA;\n",
              "      box-shadow: 0px 1px 2px rgba(60, 64, 67, 0.3), 0px 1px 3px 1px rgba(60, 64, 67, 0.15);\n",
              "      fill: #174EA6;\n",
              "    }\n",
              "\n",
              "    [theme=dark] .colab-df-convert {\n",
              "      background-color: #3B4455;\n",
              "      fill: #D2E3FC;\n",
              "    }\n",
              "\n",
              "    [theme=dark] .colab-df-convert:hover {\n",
              "      background-color: #434B5C;\n",
              "      box-shadow: 0px 1px 3px 1px rgba(0, 0, 0, 0.15);\n",
              "      filter: drop-shadow(0px 1px 2px rgba(0, 0, 0, 0.3));\n",
              "      fill: #FFFFFF;\n",
              "    }\n",
              "  </style>\n",
              "\n",
              "      <script>\n",
              "        const buttonEl =\n",
              "          document.querySelector('#df-8291f36f-30fe-4223-ae3b-cfd142e26a47 button.colab-df-convert');\n",
              "        buttonEl.style.display =\n",
              "          google.colab.kernel.accessAllowed ? 'block' : 'none';\n",
              "\n",
              "        async function convertToInteractive(key) {\n",
              "          const element = document.querySelector('#df-8291f36f-30fe-4223-ae3b-cfd142e26a47');\n",
              "          const dataTable =\n",
              "            await google.colab.kernel.invokeFunction('convertToInteractive',\n",
              "                                                     [key], {});\n",
              "          if (!dataTable) return;\n",
              "\n",
              "          const docLinkHtml = 'Like what you see? Visit the ' +\n",
              "            '<a target=\"_blank\" href=https://colab.research.google.com/notebooks/data_table.ipynb>data table notebook</a>'\n",
              "            + ' to learn more about interactive tables.';\n",
              "          element.innerHTML = '';\n",
              "          dataTable['output_type'] = 'display_data';\n",
              "          await google.colab.output.renderOutput(dataTable, element);\n",
              "          const docLink = document.createElement('div');\n",
              "          docLink.innerHTML = docLinkHtml;\n",
              "          element.appendChild(docLink);\n",
              "        }\n",
              "      </script>\n",
              "    </div>\n",
              "  </div>\n",
              "  "
            ]
          },
          "metadata": {},
          "execution_count": 5
        }
      ]
    },
    {
      "cell_type": "code",
      "source": [
        "def description(df):\n",
        "    tmp = df.describe()\n",
        "    tmp.loc['nan'] = [df[el].isna().sum() for el in df.describe().columns]\n",
        "    #temp.loc['duplicates'] = [data.duplicated().sum() for el in df.describe().columns]\n",
        "    tmp\n",
        "    \n",
        "    for el in df.columns:\n",
        "        print(el)\n",
        "        print(df[el].value_counts(dropna=False))\n",
        "        print(f'NAN:{df[el].isna().sum()}')\n",
        "        print(f' Unique:{df[el].nunique()}')\n",
        "        print()"
      ],
      "metadata": {
        "id": "HQ9bhAOBqyOQ"
      },
      "execution_count": null,
      "outputs": []
    },
    {
      "cell_type": "code",
      "source": [
        "description(df)"
      ],
      "metadata": {
        "id": "Lvg73nVXtboe",
        "colab": {
          "base_uri": "https://localhost:8080/"
        },
        "outputId": "0e0a8d56-c74d-4d49-cadb-7e079276995a"
      },
      "execution_count": null,
      "outputs": [
        {
          "output_type": "stream",
          "name": "stdout",
          "text": [
            "id\n",
            "6818780    1\n",
            "1236699    1\n",
            "4090073    1\n",
            "7722817    1\n",
            "3414179    1\n",
            "          ..\n",
            "2573822    1\n",
            "654869     1\n",
            "1616887    1\n",
            "1384821    1\n",
            "6423388    1\n",
            "Name: id, Length: 6000000, dtype: int64\n",
            "NAN:0\n",
            " Unique:6000000\n",
            "\n",
            "oper_type + oper_attr\n",
            "1020_-1    693154\n",
            "1022_-1    656597\n",
            "1019_-1    413710\n",
            "8_0        402877\n",
            "1_-1       359402\n",
            "            ...  \n",
            "2_2             1\n",
            "12_6            1\n",
            "2_11            1\n",
            "2_10            1\n",
            "1009_-1         1\n",
            "Name: oper_type + oper_attr, Length: 109, dtype: int64\n",
            "NAN:0\n",
            " Unique:109\n",
            "\n",
            "index_oper\n",
            "102976      938416\n",
            "102976.0    661191\n",
            "102971      476859\n",
            "102971.0    341402\n",
            "620984       80811\n",
            "             ...  \n",
            "347566.0         1\n",
            "397724           1\n",
            "353710.0         1\n",
            "668412           1\n",
            "164553.0         1\n",
            "Name: index_oper, Length: 38661, dtype: int64\n",
            "NAN:0\n",
            " Unique:38661\n",
            "\n",
            "type\n",
            "Цех               2093668\n",
            "ММПО              1614974\n",
            "Участок            926631\n",
            "ГОПС               463750\n",
            "ТИ                 305490\n",
            "П                  245814\n",
            "МСЦ                223241\n",
            "СОПС                72161\n",
            "СЦ                  12469\n",
            "ОП                   9527\n",
            "МСО                  7465\n",
            "ОПП                  7190\n",
            "АОПП                 6682\n",
            "МРП                  3850\n",
            "0                    3444\n",
            "АО                   1304\n",
            "ПЕРЕДВИЖНОЕ ОС       1006\n",
            "ППС                   682\n",
            "УМСЦ                  569\n",
            "УКД                    83\n",
            "Name: type, dtype: int64\n",
            "NAN:0\n",
            " Unique:20\n",
            "\n",
            "priority\n",
            "7503.0    3990518\n",
            "7506.0    1744627\n",
            "7504.0     261583\n",
            "0.0          3272\n",
            "Name: priority, dtype: int64\n",
            "NAN:0\n",
            " Unique:4\n",
            "\n",
            "is_privatecategory\n",
            "N    5994524\n",
            "Y       2806\n",
            "0       2670\n",
            "Name: is_privatecategory, dtype: int64\n",
            "NAN:0\n",
            " Unique:3\n",
            "\n",
            "class\n",
            "0.0    5214845\n",
            "3.0     371753\n",
            "2.0     150393\n",
            "4.0     131468\n",
            "1.0     114117\n",
            "5.0      17424\n",
            "Name: class, dtype: int64\n",
            "NAN:0\n",
            " Unique:6\n",
            "\n",
            "is_in_yandex\n",
            "N    3585956\n",
            "Y    2411374\n",
            "0       2670\n",
            "Name: is_in_yandex, dtype: int64\n",
            "NAN:0\n",
            " Unique:3\n",
            "\n",
            "is_return\n",
            "N    5993017\n",
            "Y       6983\n",
            "Name: is_return, dtype: int64\n",
            "NAN:0\n",
            " Unique:2\n",
            "\n",
            "weight\n",
            "30.0      40526\n",
            "27.0      39534\n",
            "40.0      39159\n",
            "28.0      38781\n",
            "60.0      38558\n",
            "          ...  \n",
            "3570.0        1\n",
            "2923.0        1\n",
            "2814.0        1\n",
            "2979.0        1\n",
            "2760.0        1\n",
            "Name: weight, Length: 2809, dtype: int64\n",
            "NAN:0\n",
            " Unique:2809\n",
            "\n",
            "mailtype\n",
            "5.0    5992702\n",
            "0.0       5239\n",
            "2.0       1470\n",
            "7.0        462\n",
            "4.0         84\n",
            "1.0         20\n",
            "8.0         19\n",
            "6.0          2\n",
            "9.0          2\n",
            "Name: mailtype, dtype: int64\n",
            "NAN:0\n",
            " Unique:9\n",
            "\n",
            "mailctg\n",
            " 1.0    4688317\n",
            " 0.0    1257102\n",
            "-1.0      54015\n",
            " 3.0        546\n",
            " 5.0         20\n",
            "Name: mailctg, dtype: int64\n",
            "NAN:0\n",
            " Unique:5\n",
            "\n",
            "mailrank\n",
            "0.0    6000000\n",
            "Name: mailrank, dtype: int64\n",
            "NAN:0\n",
            " Unique:1\n",
            "\n",
            "directctg\n",
            "2.0    5930484\n",
            "1.0      69361\n",
            "0.0        155\n",
            "Name: directctg, dtype: int64\n",
            "NAN:0\n",
            " Unique:3\n",
            "\n",
            "transport_pay\n",
            "0.00      4120507\n",
            "22.41        4202\n",
            "23.88        4001\n",
            "22.91        3867\n",
            "23.60        3859\n",
            "           ...   \n",
            "98.80           1\n",
            "39.34           1\n",
            "55.90           1\n",
            "133.13          1\n",
            "126.15          1\n",
            "Name: transport_pay, Length: 10412, dtype: int64\n",
            "NAN:0\n",
            " Unique:10412\n",
            "\n",
            "postmark\n",
            "0.0       5998986\n",
            "512.0         901\n",
            "1024.0         79\n",
            "8.0            23\n",
            "256.0           7\n",
            "1.0             4\n",
            "Name: postmark, dtype: int64\n",
            "NAN:0\n",
            " Unique:6\n",
            "\n",
            "name_mfi\n",
            "0                                                                           815434\n",
            "Mobile Phone Bags & Cases                                                    48165\n",
            "Screen Protectors                                                            45032\n",
            "phone case                                                                   42696\n",
            "Phone Case                                                                   25031\n",
            "                                                                             ...  \n",
            "BRUSH(X-DZS-2inch)                                                               1\n",
            "car led light(b-ty-highlander-15/18)                                             1\n",
            "iPhone glass(1005001915468400)                                                   1\n",
            "Tops,Women_s Jacket/T shirt,Women's Jacket/T shirt                               1\n",
            "Piston Rings PR-PW60-2SET(PR-PW60-2SET),Piston Rings PR-PW60-2SET(PR-PW6         1\n",
            "Name: name_mfi, Length: 212936, dtype: int64\n",
            "NAN:0\n",
            " Unique:212936\n",
            "\n",
            "weight_mfi\n",
            "0.0       816226\n",
            "100.0     170247\n",
            "50.0      148594\n",
            "30.0      127648\n",
            "20.0       92968\n",
            "           ...  \n",
            "2453.0         1\n",
            "2485.0         1\n",
            "2022.0         1\n",
            "1727.0         1\n",
            "1491.0         1\n",
            "Name: weight_mfi, Length: 2070, dtype: int64\n",
            "NAN:0\n",
            " Unique:2070\n",
            "\n",
            "price_mfi\n",
            "0.0        816663\n",
            "100.0      549504\n",
            "200.0      367123\n",
            "500.0      266189\n",
            "50.0       196045\n",
            "            ...  \n",
            "41228.0         1\n",
            "6294.0          1\n",
            "14001.0         1\n",
            "3039.0          1\n",
            "44256.0         1\n",
            "Name: price_mfi, Length: 6595, dtype: int64\n",
            "NAN:0\n",
            " Unique:6595\n",
            "\n",
            "dist_qty_oper_login_1\n",
            "914.0     795886\n",
            "1089.0    334082\n",
            "184.0     329741\n",
            "972.0     272750\n",
            "153.0     239368\n",
            "           ...  \n",
            "75.0           3\n",
            "135.0          1\n",
            "222.0          1\n",
            "89.0           1\n",
            "95.0           1\n",
            "Name: dist_qty_oper_login_1, Length: 165, dtype: int64\n",
            "NAN:0\n",
            " Unique:165\n",
            "\n",
            "total_qty_oper_login_1\n",
            "48856658.0    795886\n",
            "64270133.0    334082\n",
            "67541214.0    329741\n",
            "68766046.0    272750\n",
            "76138189.0    159450\n",
            "               ...  \n",
            "38514.0            1\n",
            "106624.0           1\n",
            "5791.0             1\n",
            "44447.0            1\n",
            "9588.0             1\n",
            "Name: total_qty_oper_login_1, Length: 18377, dtype: int64\n",
            "NAN:0\n",
            " Unique:18377\n",
            "\n",
            "total_qty_oper_login_0\n",
            "83318932.0     795886\n",
            "116432632.0    334082\n",
            "7870.0         329741\n",
            "91123247.0     272750\n",
            "8747.0         159450\n",
            "                ...  \n",
            "15936.0             1\n",
            "19165.0             1\n",
            "55367.0             1\n",
            "10047.0             1\n",
            "9755.0              1\n",
            "Name: total_qty_oper_login_0, Length: 9351, dtype: int64\n",
            "NAN:0\n",
            " Unique:9351\n",
            "\n",
            "total_qty_over_index_and_type\n",
            "132175590.0    795886\n",
            "180702765.0    334082\n",
            "67549084.0     329741\n",
            "159889293.0    272750\n",
            "76146936.0     159450\n",
            "                ...  \n",
            "405817.0            1\n",
            "37450.0             1\n",
            "38834.0             1\n",
            "8291.0              1\n",
            "368597.0            1\n",
            "Name: total_qty_over_index_and_type, Length: 20097, dtype: int64\n",
            "NAN:0\n",
            " Unique:20097\n",
            "\n",
            "total_qty_over_index\n",
            "136819803.0    795886\n",
            "188407812.0    334082\n",
            "72981134.0     329741\n",
            "164927295.0    272795\n",
            "84110459.0     159454\n",
            "                ...  \n",
            "1398.0              1\n",
            "12251.0             1\n",
            "4167.0              1\n",
            "20898.0             1\n",
            "36362.0             1\n",
            "Name: total_qty_over_index, Length: 35188, dtype: int64\n",
            "NAN:0\n",
            " Unique:35188\n",
            "\n",
            "is_wrong_sndr_name\n",
            "0    5984615\n",
            "1      15385\n",
            "Name: is_wrong_sndr_name, dtype: int64\n",
            "NAN:0\n",
            " Unique:2\n",
            "\n",
            "is_wrong_rcpn_name\n",
            "0    4441358\n",
            "1    1558642\n",
            "Name: is_wrong_rcpn_name, dtype: int64\n",
            "NAN:0\n",
            " Unique:2\n",
            "\n",
            "is_wrong_phone_number\n",
            "0    4974174\n",
            "1    1025826\n",
            "Name: is_wrong_phone_number, dtype: int64\n",
            "NAN:0\n",
            " Unique:2\n",
            "\n",
            "is_wrong_address\n",
            "0    5992423\n",
            "1       7577\n",
            "Name: is_wrong_address, dtype: int64\n",
            "NAN:0\n",
            " Unique:2\n",
            "\n",
            "label\n",
            "0    5829020\n",
            "1     170980\n",
            "Name: label, dtype: int64\n",
            "NAN:0\n",
            " Unique:2\n",
            "\n"
          ]
        }
      ]
    },
    {
      "cell_type": "markdown",
      "source": [
        "Удалим ненужные столбцы, где все 0 или более 80% нулей - значения в label не удалились"
      ],
      "metadata": {
        "id": "-Ib9rtXsIaMq"
      }
    },
    {
      "cell_type": "code",
      "source": [
        "df= df.drop(columns=['id','postmark', 'mailrank'])\n",
        "\n",
        "#'transport_pay'"
      ],
      "metadata": {
        "id": "lbI3McW8cP25"
      },
      "execution_count": null,
      "outputs": []
    },
    {
      "cell_type": "markdown",
      "source": [
        "Столбец mailtype Код вида отправления - почти все значения 5.0, пересечение с целевой меткой 0,1%"
      ],
      "metadata": {
        "id": "sYlYgA4ZgqpH"
      }
    },
    {
      "cell_type": "code",
      "source": [
        "df= df.drop(columns=['mailtype'])"
      ],
      "metadata": {
        "id": "dU1t1GFVgmar"
      },
      "execution_count": null,
      "outputs": []
    },
    {
      "cell_type": "markdown",
      "source": [
        "Также удалим столбец с данными двигается письмо адресату или уже возвращается, так 0.09% соответствует целевой метке"
      ],
      "metadata": {
        "id": "zALw0iciZoxX"
      }
    },
    {
      "cell_type": "code",
      "source": [
        "df.query('is_return == \"Y\" and label == 1').shape"
      ],
      "metadata": {
        "colab": {
          "base_uri": "https://localhost:8080/"
        },
        "id": "yWOwIN7SXCSQ",
        "outputId": "cb7798f6-eb1e-44fb-bfbe-0aabbfd4aa96"
      },
      "execution_count": null,
      "outputs": [
        {
          "output_type": "execute_result",
          "data": {
            "text/plain": [
              "(155, 25)"
            ]
          },
          "metadata": {},
          "execution_count": 10
        }
      ]
    },
    {
      "cell_type": "code",
      "source": [
        "df= df.drop(columns=['is_return'])"
      ],
      "metadata": {
        "id": "6yhu6N4FZpBe"
      },
      "execution_count": null,
      "outputs": []
    },
    {
      "cell_type": "markdown",
      "source": [
        "В столбце transport_pay 4 млн значений 0, но 10000 уникальных значений. Переведем его в логическое 0 - нет, 1 - да"
      ],
      "metadata": {
        "id": "kUAaYV6aOxuT"
      }
    },
    {
      "cell_type": "code",
      "source": [
        "df.loc[(df.transport_pay > 0), 'transport_pay'] = 1\n",
        "df.transport_pay.value_counts()"
      ],
      "metadata": {
        "colab": {
          "base_uri": "https://localhost:8080/"
        },
        "id": "f_WlZlRcOwUF",
        "outputId": "6a896b3c-9b20-4f93-d9dc-6c3edf5c0710"
      },
      "execution_count": null,
      "outputs": [
        {
          "output_type": "execute_result",
          "data": {
            "text/plain": [
              "0.0    4120507\n",
              "1.0    1879493\n",
              "Name: transport_pay, dtype: int64"
            ]
          },
          "metadata": {},
          "execution_count": 12
        }
      ]
    },
    {
      "cell_type": "markdown",
      "source": [
        "Также удалим столбец с данными о типе отделения, так 0.1% соответствует целевой метке"
      ],
      "metadata": {
        "id": "eU8OlHPFb3lI"
      }
    },
    {
      "cell_type": "code",
      "source": [
        "df.query('is_privatecategory == \"Y\" and label == 1').shape"
      ],
      "metadata": {
        "colab": {
          "base_uri": "https://localhost:8080/"
        },
        "id": "4eScijqpbvX3",
        "outputId": "0fd4169a-bac6-431c-ac7c-67e54a4daac3"
      },
      "execution_count": null,
      "outputs": [
        {
          "output_type": "execute_result",
          "data": {
            "text/plain": [
              "(285, 24)"
            ]
          },
          "metadata": {},
          "execution_count": 13
        }
      ]
    },
    {
      "cell_type": "code",
      "source": [
        "df= df.drop(columns=['is_privatecategory'])"
      ],
      "metadata": {
        "id": "5-yy8lLJcFVm"
      },
      "execution_count": null,
      "outputs": []
    },
    {
      "cell_type": "markdown",
      "source": [
        "В столбцах со значениями Y/N удалим нули ( их всего 2670 значений) и преобразуем в числовые - значения в label не удалились"
      ],
      "metadata": {
        "id": "pIPiIEO4IeF0"
      }
    },
    {
      "cell_type": "code",
      "source": [
        "def size(x, y):\n",
        "  return plt.figure(figsize = (x, y))"
      ],
      "metadata": {
        "id": "JyZ_6KKmENIt"
      },
      "execution_count": null,
      "outputs": []
    },
    {
      "cell_type": "code",
      "source": [
        "size(4, 4)\n",
        "df.is_in_yandex.value_counts().plot(kind='bar', title='label')"
      ],
      "metadata": {
        "colab": {
          "base_uri": "https://localhost:8080/",
          "height": 296
        },
        "id": "J03oZB5GMr2c",
        "outputId": "e8b00da7-9d20-41af-abd0-c8004145c43f"
      },
      "execution_count": null,
      "outputs": [
        {
          "output_type": "execute_result",
          "data": {
            "text/plain": [
              "<matplotlib.axes._subplots.AxesSubplot at 0x7fa4e4ddf8d0>"
            ]
          },
          "metadata": {},
          "execution_count": 16
        },
        {
          "output_type": "display_data",
          "data": {
            "text/plain": [
              "<Figure size 288x288 with 1 Axes>"
            ],
            "image/png": "[encoded data removed]"
          },
          "metadata": {
            "needs_background": "light"
          }
        }
      ]
    },
    {
      "cell_type": "code",
      "source": [
        "# значение 0 является строковым\n",
        "df = df.drop(df[df.is_in_yandex == '0'].index)"
      ],
      "metadata": {
        "id": "G2H7VJGeMDdN"
      },
      "execution_count": null,
      "outputs": []
    },
    {
      "cell_type": "code",
      "source": [
        "# df[bool_feat] = df[bool_feat].replace('Y', 1)\n",
        "# df[bool_feat] = df[bool_feat].replace('N', 0)\n",
        "\n",
        "df['is_in_yandex'] = df['is_in_yandex'].replace('Y', 1)\n",
        "df['is_in_yandex'] = df['is_in_yandex'].replace('N', 0)"
      ],
      "metadata": {
        "id": "4jUyJgwiLiyO"
      },
      "execution_count": null,
      "outputs": []
    },
    {
      "cell_type": "code",
      "source": [
        "df['label'].value_counts()"
      ],
      "metadata": {
        "colab": {
          "base_uri": "https://localhost:8080/"
        },
        "id": "rfpOYssHI4pv",
        "outputId": "0bcc4aec-9092-4bd2-a1d8-5f00bf6cf93f"
      },
      "execution_count": null,
      "outputs": [
        {
          "output_type": "execute_result",
          "data": {
            "text/plain": [
              "0    5826350\n",
              "1     170980\n",
              "Name: label, dtype: int64"
            ]
          },
          "metadata": {},
          "execution_count": 19
        }
      ]
    },
    {
      "cell_type": "markdown",
      "metadata": {
        "id": "o9dvpCMGPBgV"
      },
      "source": [
        "Посмотрим графически на целевой признак: очевиден дисбаланс классов"
      ]
    },
    {
      "cell_type": "code",
      "execution_count": null,
      "metadata": {
        "id": "tUcx2N6GnJg5",
        "colab": {
          "base_uri": "https://localhost:8080/",
          "height": 295
        },
        "outputId": "ce200350-c08a-4b00-d1c0-509619547daf"
      },
      "outputs": [
        {
          "output_type": "execute_result",
          "data": {
            "text/plain": [
              "<matplotlib.axes._subplots.AxesSubplot at 0x7fa4e9dfac50>"
            ]
          },
          "metadata": {},
          "execution_count": 20
        },
        {
          "output_type": "display_data",
          "data": {
            "text/plain": [
              "<Figure size 432x288 with 1 Axes>"
            ],
            "image/png": "[encoded data removed]"
          },
          "metadata": {
            "needs_background": "light"
          }
        }
      ],
      "source": [
        "df.label.value_counts().plot(kind='bar', title='label')"
      ]
    },
    {
      "cell_type": "markdown",
      "source": [
        "\n",
        "\n",
        "Random under-sampling"
      ],
      "metadata": {
        "id": "NXaAXJ7FTnvS"
      }
    },
    {
      "cell_type": "code",
      "source": [
        "# count_class_0, count_class_1 = df.label.value_counts()\n",
        "\n",
        "# df_class_0 = df[df['label'] == 0]\n",
        "# df_class_1 = df[df['label'] == 1]\n",
        "\n",
        "# df_class_0_under = df_class_0.sample(count_class_1)\n",
        "# df = pd.concat([df_class_0_under, df_class_1], axis=0)\n",
        "\n",
        "# print('Random under-sampling:')\n",
        "# print(df.label.value_counts())\n",
        "\n",
        "# df.label.value_counts().plot(kind='bar', title='Count (target)')"
      ],
      "metadata": {
        "id": "ipxiIEApTlG9"
      },
      "execution_count": null,
      "outputs": []
    },
    {
      "cell_type": "markdown",
      "source": [
        "Class переименуем, чтоб выполнить ряд операций. И поделим тоже на 2 класса: 0 и остальные - 1"
      ],
      "metadata": {
        "id": "M4_EbhO3iKz2"
      }
    },
    {
      "cell_type": "code",
      "source": [
        "df['class_mail'] = df['class']\n",
        "df = df.drop(columns = ['class']) "
      ],
      "metadata": {
        "id": "7Xp5BfESh4S5"
      },
      "execution_count": null,
      "outputs": []
    },
    {
      "cell_type": "code",
      "source": [
        "df.loc[(df.class_mail > 0), 'class_mail'] = 1\n",
        "df.class_mail.value_counts()"
      ],
      "metadata": {
        "colab": {
          "base_uri": "https://localhost:8080/"
        },
        "id": "7oHEqvKRibtP",
        "outputId": "3ab23f7f-af41-4c51-d9bc-08a4d0136e0b"
      },
      "execution_count": null,
      "outputs": [
        {
          "output_type": "execute_result",
          "data": {
            "text/plain": [
              "0.0    5212175\n",
              "1.0     785155\n",
              "Name: class_mail, dtype: int64"
            ]
          },
          "metadata": {},
          "execution_count": 23
        }
      ]
    },
    {
      "cell_type": "markdown",
      "source": [
        "Назначение данных столбцов не совсем ясно, посмотрим поближе графически с логарифмированием (это нужно, чтобы понять насколько схожи данные в разных столюцах)"
      ],
      "metadata": {
        "id": "IEcrRyHiA1ug"
      }
    },
    {
      "cell_type": "code",
      "source": [
        "similar_feat = df[['dist_qty_oper_login_1', 'total_qty_oper_login_1', 'total_qty_oper_login_0', 'total_qty_over_index_and_type', 'total_qty_over_index']]"
      ],
      "metadata": {
        "id": "EV7ZQR99kX_r"
      },
      "execution_count": null,
      "outputs": []
    },
    {
      "cell_type": "code",
      "source": [
        "size(10, 6)\n",
        "sns.heatmap(similar_feat.corr(), annot = True, linewidths=0.8, cmap = 'Spectral')"
      ],
      "metadata": {
        "colab": {
          "base_uri": "https://localhost:8080/",
          "height": 540
        },
        "id": "hgb7D1eBodrj",
        "outputId": "6ca03330-a332-44e0-bc45-deb0780186aa"
      },
      "execution_count": null,
      "outputs": [
        {
          "output_type": "execute_result",
          "data": {
            "text/plain": [
              "<matplotlib.axes._subplots.AxesSubplot at 0x7fa4e8ac9410>"
            ]
          },
          "metadata": {},
          "execution_count": 25
        },
        {
          "output_type": "display_data",
          "data": {
            "text/plain": [
              "<Figure size 720x432 with 2 Axes>"
            ],
            "image/png": "[encoded data removed]"
          },
          "metadata": {
            "needs_background": "light"
          }
        }
      ]
    },
    {
      "cell_type": "markdown",
      "source": [
        "Удалим столбцы с высокой корреляцией"
      ],
      "metadata": {
        "id": "3JI2P-48FAAT"
      }
    },
    {
      "cell_type": "code",
      "source": [
        "df = df.drop(columns = ['total_qty_over_index', 'total_qty_over_index_and_type', 'dist_qty_oper_login_1'])"
      ],
      "metadata": {
        "id": "4jJvrj8iE--X"
      },
      "execution_count": null,
      "outputs": []
    },
    {
      "cell_type": "code",
      "source": [
        "size(15,4)\n",
        "sns.boxplot(np.log(df['total_qty_oper_login_1']))"
      ],
      "metadata": {
        "colab": {
          "base_uri": "https://localhost:8080/",
          "height": 387
        },
        "id": "-nayO3VjBUe8",
        "outputId": "dabd8bbc-a9ae-4cc8-eb36-21b314e9960b"
      },
      "execution_count": null,
      "outputs": [
        {
          "output_type": "stream",
          "name": "stderr",
          "text": [
            "/usr/local/lib/python3.7/dist-packages/pandas/core/arraylike.py:364: RuntimeWarning: divide by zero encountered in log\n",
            "  result = getattr(ufunc, method)(*inputs, **kwargs)\n",
            "/usr/local/lib/python3.7/dist-packages/seaborn/_decorators.py:43: FutureWarning: Pass the following variable as a keyword arg: x. From version 0.12, the only valid positional argument will be `data`, and passing other arguments without an explicit keyword will result in an error or misinterpretation.\n",
            "  FutureWarning\n"
          ]
        },
        {
          "output_type": "execute_result",
          "data": {
            "text/plain": [
              "<matplotlib.axes._subplots.AxesSubplot at 0x7fa4df3e6fd0>"
            ]
          },
          "metadata": {},
          "execution_count": 27
        },
        {
          "output_type": "display_data",
          "data": {
            "text/plain": [
              "<Figure size 1080x288 with 1 Axes>"
            ],
            "image/png": "[encoded data removed]"
          },
          "metadata": {
            "needs_background": "light"
          }
        }
      ]
    },
    {
      "cell_type": "code",
      "source": [
        "size(15,4)\n",
        "sns.boxplot(np.log(df['total_qty_oper_login_0']))"
      ],
      "metadata": {
        "colab": {
          "base_uri": "https://localhost:8080/",
          "height": 387
        },
        "id": "hK9kFjsYEnir",
        "outputId": "bd52e9b0-cded-4e73-d716-a14ab6dfff73"
      },
      "execution_count": null,
      "outputs": [
        {
          "output_type": "stream",
          "name": "stderr",
          "text": [
            "/usr/local/lib/python3.7/dist-packages/pandas/core/arraylike.py:364: RuntimeWarning: divide by zero encountered in log\n",
            "  result = getattr(ufunc, method)(*inputs, **kwargs)\n",
            "/usr/local/lib/python3.7/dist-packages/seaborn/_decorators.py:43: FutureWarning: Pass the following variable as a keyword arg: x. From version 0.12, the only valid positional argument will be `data`, and passing other arguments without an explicit keyword will result in an error or misinterpretation.\n",
            "  FutureWarning\n"
          ]
        },
        {
          "output_type": "execute_result",
          "data": {
            "text/plain": [
              "<matplotlib.axes._subplots.AxesSubplot at 0x7fa4dcb20d90>"
            ]
          },
          "metadata": {},
          "execution_count": 28
        },
        {
          "output_type": "display_data",
          "data": {
            "text/plain": [
              "<Figure size 1080x288 with 1 Axes>"
            ],
            "image/png": "[encoded data removed]"
          },
          "metadata": {
            "needs_background": "light"
          }
        }
      ]
    },
    {
      "cell_type": "markdown",
      "source": [
        "Был попробован способ убрать нули и логарифмировать, но эти столбцы выдают высокую корреляцию с другими (как + так и -), поэтому принимаю решение их удалить. Код ниже."
      ],
      "metadata": {
        "id": "iCny_u1acO4_"
      }
    },
    {
      "cell_type": "code",
      "source": [
        "#df.query('total_qty_oper_login_1==0')\n",
        "#df = df.drop(df[df.total_qty_oper_login_1 == 0].index)\n",
        "#df.query('total_qty_oper_login_0==0')\n",
        "#df = df.drop(df[df.total_qty_oper_login_0 == 0].index)\n",
        "\n",
        "#df['dist_qty_oper_login_1'] = np.log(df['dist_qty_oper_login_1'])\n",
        "#df['total_qty_oper_login_1'] = np.log(df['total_qty_oper_login_1'])\n",
        "#df['total_qty_oper_login_0'] = np.log(df['total_qty_oper_login_0'])\n",
        "#df['total_qty_over_index_and_type'] = np.log(df['total_qty_over_index_and_type'])\n",
        "\n",
        "#df['dist_qty_oper_login_1'] = np.log(df['dist_qty_oper_login_1'])\n",
        "#df['total_qty_oper_login_1'] = np.log(df['total_qty_oper_login_1'])\n",
        "#df['total_qty_oper_login_0'] = np.log(df['total_qty_oper_login_0'])\n",
        "#df['total_qty_over_index_and_type'] = np.log(df['total_qty_over_index_and_type'])\n",
        "\n",
        "#df['dist_qty_oper_login_1'] = df['dist_qty_oper_login_1'].astype(np.float32)\n",
        "#df['total_qty_oper_login_1'] = df['total_qty_oper_login_1'].astype(np.float32)\n",
        "#df['total_qty_oper_login_0'] = df['total_qty_oper_login_0'].astype(np.float32)\n",
        "#df['total_qty_over_index_and_type'] = df['total_qty_over_index_and_type'].astype(np.float64)\n",
        "#df['total_qty_over_index'] = df['total_qty_over_index'].astype(np.int64)"
      ],
      "metadata": {
        "id": "XFjLxcswaQAS"
      },
      "execution_count": null,
      "outputs": []
    },
    {
      "cell_type": "code",
      "source": [
        "df = df.drop(columns = ['total_qty_oper_login_1', 'total_qty_oper_login_0'])"
      ],
      "metadata": {
        "id": "MU00pS3sjSZG"
      },
      "execution_count": null,
      "outputs": []
    },
    {
      "cell_type": "markdown",
      "source": [
        "Столбец index_oper содержит числовые и сторовые значения, но по факту эти значения должны быть числовыми"
      ],
      "metadata": {
        "id": "eY9BvqptRff0"
      }
    },
    {
      "cell_type": "code",
      "source": [
        "df['index_oper'] = df['index_oper'].astype(np.float64)\n",
        "df['index_oper'] = df['index_oper'].astype(np.int64)"
      ],
      "metadata": {
        "id": "3PaEKq4FRp76"
      },
      "execution_count": null,
      "outputs": []
    },
    {
      "cell_type": "code",
      "source": [
        "df['index_oper'].value_counts()"
      ],
      "metadata": {
        "colab": {
          "base_uri": "https://localhost:8080/"
        },
        "id": "E3sFFzU_jkQP",
        "outputId": "b3d38196-ffb3-44bd-abb2-f8538e565a4d"
      },
      "execution_count": null,
      "outputs": [
        {
          "output_type": "execute_result",
          "data": {
            "text/plain": [
              "102976    1611563\n",
              "102971     831679\n",
              "620984     136389\n",
              "102998     107961\n",
              "102968      98751\n",
              "           ...   \n",
              "188417          1\n",
              "453201          1\n",
              "397467          1\n",
              "659792          1\n",
              "422418          1\n",
              "Name: index_oper, Length: 20684, dtype: int64"
            ]
          },
          "metadata": {},
          "execution_count": 32
        }
      ]
    },
    {
      "cell_type": "markdown",
      "source": [
        "Перевод числовых данных в формат int8 с проверкой с целью уменьшения размера данных"
      ],
      "metadata": {
        "id": "NQrpG7GOLDvA"
      }
    },
    {
      "cell_type": "code",
      "source": [
        "df['weight_mfi'] = df['weight_mfi'].astype(np.int64)\n",
        "df['price_mfi'] = df['price_mfi'].astype(np.int64)\n",
        "df['weight'] = df['weight'].astype(np.int64)\n",
        "df['priority'] = df['priority'].astype(np.int8)\n",
        "df['class_mail'] = df['class_mail'].astype(np.int8)\n",
        "#df['mailtype'] = df['mailtype'].astype(np.int8)\n",
        "df['mailctg'] = df['mailctg'].astype(np.int8)\n",
        "df['directctg'] = df['directctg'].astype(np.int8)\n"
      ],
      "metadata": {
        "id": "E753YXnAOd31"
      },
      "execution_count": null,
      "outputs": []
    },
    {
      "cell_type": "code",
      "source": [
        "num_feat = df.select_dtypes('int64')\n",
        "for el in num_feat:\n",
        "    for n_type in (np.int32, np.int16, np.int8):\n",
        "        if (df[el] == df[el].astype(n_type)).sum() == len(df):\n",
        "            df[el] = df[el].astype(n_type)"
      ],
      "metadata": {
        "id": "FMX4UJVjJlTX"
      },
      "execution_count": null,
      "outputs": []
    },
    {
      "cell_type": "code",
      "source": [
        "num_feat = df.select_dtypes(exclude = 'object')"
      ],
      "metadata": {
        "id": "wagX4Yj6hL9s"
      },
      "execution_count": null,
      "outputs": []
    },
    {
      "cell_type": "code",
      "source": [
        "df['name_mfi'].value_counts()"
      ],
      "metadata": {
        "colab": {
          "base_uri": "https://localhost:8080/"
        },
        "id": "9PFZEZaxTnYA",
        "outputId": "cde39a23-f6cc-4a96-babe-34080fef5105"
      },
      "execution_count": null,
      "outputs": [
        {
          "output_type": "execute_result",
          "data": {
            "text/plain": [
              "0                                                                                   814649\n",
              "Mobile Phone Bags & Cases                                                            48155\n",
              "Screen Protectors                                                                    45021\n",
              "phone case                                                                           42686\n",
              "Phone Case                                                                           25024\n",
              "                                                                                     ...  \n",
              "Hats&Caps                                                                                1\n",
              "phone case(C20042301-57)                                                                 1\n",
              "Mp4accessories CY91939_04(A5F-17D2-03*1),Mp4accessories CY91939_04(A5F-17                1\n",
              "phone case(Maorong-Mi Note 10 Li,phone case(Maorong-Mi Note 10 Lite-Rabbit Gray)         1\n",
              "Piston Rings PR-PW60-2SET(PR-PW60-2SET),Piston Rings PR-PW60-2SET(PR-PW6                 1\n",
              "Name: name_mfi, Length: 212886, dtype: int64"
            ]
          },
          "metadata": {},
          "execution_count": 36
        }
      ]
    },
    {
      "cell_type": "code",
      "source": [
        "df.name_mfi = df.name_mfi.str.lower()"
      ],
      "metadata": {
        "id": "gkGj_ioEUMVh"
      },
      "execution_count": null,
      "outputs": []
    },
    {
      "cell_type": "code",
      "source": [
        "cat_feat = df.select_dtypes(include='object')\n",
        "cat_feat.describe()"
      ],
      "metadata": {
        "colab": {
          "base_uri": "https://localhost:8080/",
          "height": 175
        },
        "id": "ZjT9ybYDmTgx",
        "outputId": "2a79233b-e70b-42f2-86a3-da3f88079684"
      },
      "execution_count": null,
      "outputs": [
        {
          "output_type": "execute_result",
          "data": {
            "text/plain": [
              "       oper_type + oper_attr     type name_mfi\n",
              "count                5997330  5997330  5997330\n",
              "unique                   109       20   202760\n",
              "top                  1020_-1      Цех        0\n",
              "freq                  693154  2093668   814649"
            ],
            "text/html": [
              "\n",
              "  <div id=\"df-9a576b8f-d640-4541-8239-fbaf11c32b4a\">\n",
              "    <div class=\"colab-df-container\">\n",
              "      <div>\n",
              "<style scoped>\n",
              "    .dataframe tbody tr th:only-of-type {\n",
              "        vertical-align: middle;\n",
              "    }\n",
              "\n",
              "    .dataframe tbody tr th {\n",
              "        vertical-align: top;\n",
              "    }\n",
              "\n",
              "    .dataframe thead th {\n",
              "        text-align: right;\n",
              "    }\n",
              "</style>\n",
              "<table border=\"1\" class=\"dataframe\">\n",
              "  <thead>\n",
              "    <tr style=\"text-align: right;\">\n",
              "      <th></th>\n",
              "      <th>oper_type + oper_attr</th>\n",
              "      <th>type</th>\n",
              "      <th>name_mfi</th>\n",
              "    </tr>\n",
              "  </thead>\n",
              "  <tbody>\n",
              "    <tr>\n",
              "      <th>count</th>\n",
              "      <td>5997330</td>\n",
              "      <td>5997330</td>\n",
              "      <td>5997330</td>\n",
              "    </tr>\n",
              "    <tr>\n",
              "      <th>unique</th>\n",
              "      <td>109</td>\n",
              "      <td>20</td>\n",
              "      <td>202760</td>\n",
              "    </tr>\n",
              "    <tr>\n",
              "      <th>top</th>\n",
              "      <td>1020_-1</td>\n",
              "      <td>Цех</td>\n",
              "      <td>0</td>\n",
              "    </tr>\n",
              "    <tr>\n",
              "      <th>freq</th>\n",
              "      <td>693154</td>\n",
              "      <td>2093668</td>\n",
              "      <td>814649</td>\n",
              "    </tr>\n",
              "  </tbody>\n",
              "</table>\n",
              "</div>\n",
              "      <button class=\"colab-df-convert\" onclick=\"convertToInteractive('df-9a576b8f-d640-4541-8239-fbaf11c32b4a')\"\n",
              "              title=\"Convert this dataframe to an interactive table.\"\n",
              "              style=\"display:none;\">\n",
              "        \n",
              "  <svg xmlns=\"http://www.w3.org/2000/svg\" height=\"24px\"viewBox=\"0 0 24 24\"\n",
              "       width=\"24px\">\n",
              "    <path d=\"M0 0h24v24H0V0z\" fill=\"none\"/>\n",
              "    <path d=\"M18.56 5.44l.94 2.06.94-2.06 2.06-.94-2.06-.94-.94-2.06-.94 2.06-2.06.94zm-11 1L8.5 8.5l.94-2.06 2.06-.94-2.06-.94L8.5 2.5l-.94 2.06-2.06.94zm10 10l.94 2.06.94-2.06 2.06-.94-2.06-.94-.94-2.06-.94 2.06-2.06.94z\"/><path d=\"M17.41 7.96l-1.37-1.37c-.4-.4-.92-.59-1.43-.59-.52 0-1.04.2-1.43.59L10.3 9.45l-7.72 7.72c-.78.78-.78 2.05 0 2.83L4 21.41c.39.39.9.59 1.41.59.51 0 1.02-.2 1.41-.59l7.78-7.78 2.81-2.81c.8-.78.8-2.07 0-2.86zM5.41 20L4 18.59l7.72-7.72 1.47 1.35L5.41 20z\"/>\n",
              "  </svg>\n",
              "      </button>\n",
              "      \n",
              "  <style>\n",
              "    .colab-df-container {\n",
              "      display:flex;\n",
              "      flex-wrap:wrap;\n",
              "      gap: 12px;\n",
              "    }\n",
              "\n",
              "    .colab-df-convert {\n",
              "      background-color: #E8F0FE;\n",
              "      border: none;\n",
              "      border-radius: 50%;\n",
              "      cursor: pointer;\n",
              "      display: none;\n",
              "      fill: #1967D2;\n",
              "      height: 32px;\n",
              "      padding: 0 0 0 0;\n",
              "      width: 32px;\n",
              "    }\n",
              "\n",
              "    .colab-df-convert:hover {\n",
              "      background-color: #E2EBFA;\n",
              "      box-shadow: 0px 1px 2px rgba(60, 64, 67, 0.3), 0px 1px 3px 1px rgba(60, 64, 67, 0.15);\n",
              "      fill: #174EA6;\n",
              "    }\n",
              "\n",
              "    [theme=dark] .colab-df-convert {\n",
              "      background-color: #3B4455;\n",
              "      fill: #D2E3FC;\n",
              "    }\n",
              "\n",
              "    [theme=dark] .colab-df-convert:hover {\n",
              "      background-color: #434B5C;\n",
              "      box-shadow: 0px 1px 3px 1px rgba(0, 0, 0, 0.15);\n",
              "      filter: drop-shadow(0px 1px 2px rgba(0, 0, 0, 0.3));\n",
              "      fill: #FFFFFF;\n",
              "    }\n",
              "  </style>\n",
              "\n",
              "      <script>\n",
              "        const buttonEl =\n",
              "          document.querySelector('#df-9a576b8f-d640-4541-8239-fbaf11c32b4a button.colab-df-convert');\n",
              "        buttonEl.style.display =\n",
              "          google.colab.kernel.accessAllowed ? 'block' : 'none';\n",
              "\n",
              "        async function convertToInteractive(key) {\n",
              "          const element = document.querySelector('#df-9a576b8f-d640-4541-8239-fbaf11c32b4a');\n",
              "          const dataTable =\n",
              "            await google.colab.kernel.invokeFunction('convertToInteractive',\n",
              "                                                     [key], {});\n",
              "          if (!dataTable) return;\n",
              "\n",
              "          const docLinkHtml = 'Like what you see? Visit the ' +\n",
              "            '<a target=\"_blank\" href=https://colab.research.google.com/notebooks/data_table.ipynb>data table notebook</a>'\n",
              "            + ' to learn more about interactive tables.';\n",
              "          element.innerHTML = '';\n",
              "          dataTable['output_type'] = 'display_data';\n",
              "          await google.colab.output.renderOutput(dataTable, element);\n",
              "          const docLink = document.createElement('div');\n",
              "          docLink.innerHTML = docLinkHtml;\n",
              "          element.appendChild(docLink);\n",
              "        }\n",
              "      </script>\n",
              "    </div>\n",
              "  </div>\n",
              "  "
            ]
          },
          "metadata": {},
          "execution_count": 38
        }
      ]
    },
    {
      "cell_type": "code",
      "source": [
        "df['type'] = df['type'].replace(0, 'unknown')\n",
        "df['oper_type + oper_attr'] = df['oper_type + oper_attr'].replace(0, 'unknown')\n",
        "df['name_mfi'] = df['name_mfi'].replace(0, 'unknown')\n",
        "\n",
        "\n",
        "for columns in cat_feat:\n",
        "  encoder = preprocessing.LabelEncoder()\n",
        "  encoder = encoder.fit(df[columns])\n",
        "  df[columns] = encoder.transform(df[columns])\n"
      ],
      "metadata": {
        "id": "9YLWmU64vFUx"
      },
      "execution_count": null,
      "outputs": []
    },
    {
      "cell_type": "code",
      "source": [
        "df['is_wrong_rcpn'] = df['is_wrong_rcpn_name'] + df['is_wrong_phone_number'] + df['is_wrong_address']"
      ],
      "metadata": {
        "id": "e-DI4L3fi_NE"
      },
      "execution_count": null,
      "outputs": []
    },
    {
      "cell_type": "code",
      "source": [
        "df = df.drop(columns = ['is_wrong_rcpn_name', 'is_wrong_phone_number', 'is_wrong_address'])"
      ],
      "metadata": {
        "id": "J5maMfotdTao"
      },
      "execution_count": null,
      "outputs": []
    },
    {
      "cell_type": "code",
      "source": [
        "df.loc[(df.is_wrong_rcpn > 0), 'is_wrong_rcpn'] = 1\n",
        "df['is_wrong_rcpn'].value_counts()"
      ],
      "metadata": {
        "colab": {
          "base_uri": "https://localhost:8080/"
        },
        "id": "hX6KlddScu8I",
        "outputId": "a3ef884c-4ed8-4386-e0f6-4fd15f409a8d"
      },
      "execution_count": null,
      "outputs": [
        {
          "output_type": "execute_result",
          "data": {
            "text/plain": [
              "0    3592793\n",
              "1    2404537\n",
              "Name: is_wrong_rcpn, dtype: int64"
            ]
          },
          "metadata": {},
          "execution_count": 42
        }
      ]
    },
    {
      "cell_type": "code",
      "source": [
        "y = df['label']\n",
        "X = df.drop(['label'], axis= 1)"
      ],
      "metadata": {
        "id": "DCSqMNzMP0Ig"
      },
      "execution_count": null,
      "outputs": []
    },
    {
      "cell_type": "code",
      "source": [
        "y.value_counts()"
      ],
      "metadata": {
        "id": "r2tu7hiTQ92F",
        "colab": {
          "base_uri": "https://localhost:8080/"
        },
        "outputId": "36f2e4ab-1706-43fc-dee0-6b20ccbf89b9"
      },
      "execution_count": null,
      "outputs": [
        {
          "output_type": "execute_result",
          "data": {
            "text/plain": [
              "0    5826350\n",
              "1     170980\n",
              "Name: label, dtype: int64"
            ]
          },
          "metadata": {},
          "execution_count": 44
        }
      ]
    },
    {
      "cell_type": "code",
      "source": [
        "#from imblearn.over_sampling import ADASYN"
      ],
      "metadata": {
        "id": "z9_l4ghPL6vi"
      },
      "execution_count": null,
      "outputs": []
    },
    {
      "cell_type": "code",
      "source": [
        "#X_sm, y_sm = ADASYN().fit_resample(X, y)"
      ],
      "metadata": {
        "id": "NiYkzCohL_wG"
      },
      "execution_count": null,
      "outputs": []
    },
    {
      "cell_type": "code",
      "source": [
        "from imblearn.over_sampling import SMOTE\n",
        "smote = SMOTE(sampling_strategy='minority')\n"
      ],
      "metadata": {
        "id": "BgjY-Q-APsOL"
      },
      "execution_count": null,
      "outputs": []
    },
    {
      "cell_type": "code",
      "source": [
        "X_sm, y_sm = smote.fit_resample(X, y)\n"
      ],
      "metadata": {
        "id": "LB2vcH63QgBM"
      },
      "execution_count": null,
      "outputs": []
    },
    {
      "cell_type": "code",
      "source": [
        "y_sm.value_counts()"
      ],
      "metadata": {
        "id": "f4bO6y-WyK0Y",
        "colab": {
          "base_uri": "https://localhost:8080/"
        },
        "outputId": "f23170c9-a1f5-466b-8f77-56873fca2ced"
      },
      "execution_count": null,
      "outputs": [
        {
          "output_type": "execute_result",
          "data": {
            "text/plain": [
              "0    5826350\n",
              "1    5826350\n",
              "Name: label, dtype: int64"
            ]
          },
          "metadata": {},
          "execution_count": 49
        }
      ]
    },
    {
      "cell_type": "markdown",
      "source": [
        "Есть зависимотсть между неверным адресом и именем, можно будет эти признаки совместить"
      ],
      "metadata": {
        "id": "zSL7pWQOI3IP"
      }
    },
    {
      "cell_type": "code",
      "execution_count": null,
      "metadata": {
        "id": "HRj6464HfFyZ",
        "colab": {
          "base_uri": "https://localhost:8080/",
          "height": 712
        },
        "outputId": "f57056a4-c556-4393-c5cc-c347901adb31"
      },
      "outputs": [
        {
          "output_type": "execute_result",
          "data": {
            "text/plain": [
              "<matplotlib.axes._subplots.AxesSubplot at 0x7fa4bfbf4c90>"
            ]
          },
          "metadata": {},
          "execution_count": 50
        },
        {
          "output_type": "display_data",
          "data": {
            "text/plain": [
              "<Figure size 1800x720 with 2 Axes>"
            ],
            "image/png": "[encoded data removed]"
          },
          "metadata": {
            "needs_background": "light"
          }
        }
      ],
      "source": [
        "plt.figure(figsize = (25, 10))\n",
        "sns.heatmap(df.corr(), annot = True, linewidths=0.8, cmap = 'Spectral')"
      ]
    },
    {
      "cell_type": "markdown",
      "metadata": {
        "id": "Bgub0NNL8oVe"
      },
      "source": [
        "**Split dataset**"
      ]
    },
    {
      "cell_type": "code",
      "source": [
        "# y_t = df_test['label']\n",
        "# X_t = df_test.drop(['label'], axis= 1)\n",
        "# X_train, X_test, y_train, y_test = train_test_split(X_t, y_t, test_size=0.2, random_state=42)"
      ],
      "metadata": {
        "id": "2UnaYUJTWbGi"
      },
      "execution_count": null,
      "outputs": []
    },
    {
      "cell_type": "code",
      "source": [
        "# оставить половину данных\n",
        "X, X_1, y, y_1 = train_test_split(X_sm, y_sm, test_size=0.5, random_state=42)\n",
        "X_1 = 0\n",
        "y_1 = 0"
      ],
      "metadata": {
        "id": "lMbcfTtAmrGL"
      },
      "execution_count": null,
      "outputs": []
    },
    {
      "cell_type": "code",
      "source": [
        "X_train, X_test, y_train, y_test = train_test_split(X_sm, y_sm, test_size=0.2, random_state=42)"
      ],
      "metadata": {
        "id": "6XOKVfQQUJzB"
      },
      "execution_count": null,
      "outputs": []
    },
    {
      "cell_type": "code",
      "source": [
        "#X_train, X_test, y_train, y_test = train_test_split(X, y, test_size=0.2, random_state=42)"
      ],
      "metadata": {
        "id": "fc577z-WQS1o"
      },
      "execution_count": null,
      "outputs": []
    },
    {
      "cell_type": "markdown",
      "metadata": {
        "id": "whsCD3el6plD"
      },
      "source": [
        "# Functions"
      ]
    },
    {
      "cell_type": "code",
      "execution_count": null,
      "metadata": {
        "id": "jhh0EIfVXsp0"
      },
      "outputs": [],
      "source": [
        "# Фунция для расчета и вывода показателей моделей\n",
        "\n",
        "def count_metrics(name_of_model):\n",
        "    name_of_model.fit(X_train, y_train)\n",
        "    # y_pred=name_of_model.predict(X_train)\n",
        "    # y_predict_proba_train = name_of_model.predict_proba(X_train)[:,1]\n",
        "    # score = recall_score(y_train, y_pred, average = \"macro\" )\n",
        "    # print(\"Recall\", score)\n",
        "    # print('ROC-AUC: ', roc_auc_score(y_train, y_predict_proba_train))\n",
        "\n",
        "    y_pred = name_of_model.predict(X_test)\n",
        "    score = recall_score(y_test, y_pred, average = \"macro\" )\n",
        "    y_predict_proba = name_of_model.predict_proba(X_test)[:, 1]\n",
        "    print(\"Recall\", score)\n",
        "    print('ROC-AUC: ', roc_auc_score(y_test, y_predict_proba))\n",
        "\n",
        "    result = (0.1 * recall_score(y_test, y_pred, average = \"macro\" )) + (0.9 * roc_auc_score(y_test, y_predict_proba))\n",
        "    print('Result: ', result)\n",
        "\n",
        "    gbcm=confusion_matrix(y_test, y_pred,normalize='true')\n",
        "    rfcCMD = ConfusionMatrixDisplay(gbcm, display_labels=['0','1'])\n",
        "    rfcCMD.plot(cmap = 'Greens')\n",
        "\n",
        "\n"
      ]
    },
    {
      "cell_type": "markdown",
      "source": [
        "# Logistic Regression"
      ],
      "metadata": {
        "id": "PbYVnUYSzHmy"
      }
    },
    {
      "cell_type": "code",
      "execution_count": null,
      "metadata": {
        "id": "HBNvCBlUxZlM"
      },
      "outputs": [],
      "source": [
        "from sklearn.linear_model import LogisticRegression"
      ]
    },
    {
      "cell_type": "code",
      "execution_count": null,
      "metadata": {
        "id": "4ETjyHG4xJ2J"
      },
      "outputs": [],
      "source": [
        "LogReg =LogisticRegression()\n"
      ]
    },
    {
      "cell_type": "code",
      "source": [
        "count_metrics(LogReg)"
      ],
      "metadata": {
        "id": "GJUFK_tCKGDI"
      },
      "execution_count": null,
      "outputs": []
    },
    {
      "cell_type": "markdown",
      "metadata": {
        "id": "haZ4lQnoA_er"
      },
      "source": [
        "**MinMax Scaler**"
      ]
    },
    {
      "cell_type": "code",
      "source": [
        "# from sklearn.preprocessing import MinMaxScaler\n",
        "# minmax = MinMaxScaler()\n",
        "# scaled_minmax = minmax.fit_transform(X_train)\n",
        "# X_train = pd.DataFrame(scaled_minmax, columns = X_train.columns)\n",
        "# scaled_minmax_ = minmax.fit_transform(X_test)\n",
        "# X_test = pd.DataFrame(scaled_minmax_, columns = X_test.columns)"
      ],
      "metadata": {
        "id": "_qLX9BRFpfc-"
      },
      "execution_count": null,
      "outputs": []
    },
    {
      "cell_type": "markdown",
      "metadata": {
        "id": "ZJfvjCEu-skH"
      },
      "source": [
        "**RFECV**\n",
        "(recursive feature elimination with cross validation)"
      ]
    },
    {
      "cell_type": "code",
      "execution_count": null,
      "metadata": {
        "id": "Y7ROSruP-vxE"
      },
      "outputs": [],
      "source": [
        "#from sklearn.feature_selection import RFECV"
      ]
    },
    {
      "cell_type": "code",
      "execution_count": null,
      "metadata": {
        "id": "1veajbqZ-v-W"
      },
      "outputs": [],
      "source": [
        "#rfecv = RFECV(estimator=LogReg, cv=3, scoring= 'recall', n_jobs= -1)"
      ]
    },
    {
      "cell_type": "code",
      "execution_count": null,
      "metadata": {
        "id": "ku3SlAxvKxUK"
      },
      "outputs": [],
      "source": [
        "# rfecv.fit(X_train, y_train)\n",
        "# print(f\"Optimal features is: {rfecv.n_features_}\")\n",
        "\n",
        "# size(10, 6)\n",
        "# plt.xlabel(\"Number of features\") \n",
        "# plt.ylabel(\"recall\") \n",
        "# plt.plot(range(1, len(rfecv.grid_scores_) + 1), rfecv.grid_scores_) "
      ]
    },
    {
      "cell_type": "markdown",
      "metadata": {
        "id": "ZpvBlCYK52VB"
      },
      "source": [
        "\n",
        "\n",
        "\n",
        "#Random Forest Regression"
      ]
    },
    {
      "cell_type": "code",
      "execution_count": null,
      "metadata": {
        "id": "ikqzk7WAwC9R"
      },
      "outputs": [],
      "source": [
        "from sklearn.ensemble import RandomForestClassifier"
      ]
    },
    {
      "cell_type": "code",
      "source": [
        "#forestmodel = RandomForestClassifier(n_estimators = 60, random_state = 42, max_depth=12)"
      ],
      "metadata": {
        "id": "jej5bPTv6gom"
      },
      "execution_count": null,
      "outputs": []
    },
    {
      "cell_type": "code",
      "source": [
        "forestmodel = RandomForestClassifier(n_estimators = 15, random_state = 42, max_depth=8)"
      ],
      "metadata": {
        "id": "ZgCdO_s-IipL"
      },
      "execution_count": null,
      "outputs": []
    },
    {
      "cell_type": "code",
      "source": [
        "count_metrics(forestmodel)"
      ],
      "metadata": {
        "colab": {
          "base_uri": "https://localhost:8080/",
          "height": 331
        },
        "id": "_fb5S-eSjoKV",
        "outputId": "6250f6d7-59f1-4461-ace7-dab5a71fd221"
      },
      "execution_count": null,
      "outputs": [
        {
          "output_type": "stream",
          "name": "stdout",
          "text": [
            "Recall 0.9695673568878537\n",
            "ROC-AUC:  0.9863098348681145\n",
            "Result:  0.9846355870700885\n"
          ]
        },
        {
          "output_type": "display_data",
          "data": {
            "text/plain": [
              "<Figure size 432x288 with 2 Axes>"
            ],
            "image/png": "[encoded data removed]"
          },
          "metadata": {
            "needs_background": "light"
          }
        }
      ]
    },
    {
      "cell_type": "code",
      "source": [
        "# for i in range(8, 20, 4):\n",
        "#   forestmodel = RandomForestClassifier(n_estimators=60, random_state=1234, max_depth=12)\n",
        "#   print('глубина: ', i)\n",
        "#   count_metrics(forestmodel)"
      ],
      "metadata": {
        "id": "EMNFA5bUlqV5"
      },
      "execution_count": null,
      "outputs": []
    },
    {
      "cell_type": "code",
      "execution_count": null,
      "metadata": {
        "id": "K9cakR2dXFdd",
        "colab": {
          "base_uri": "https://localhost:8080/",
          "height": 405
        },
        "outputId": "30a2ac65-dc66-4675-9e80-27ae4c6f6bd3"
      },
      "outputs": [
        {
          "output_type": "stream",
          "name": "stdout",
          "text": [
            "['0', '1', '2', '6']\n"
          ]
        },
        {
          "output_type": "display_data",
          "data": {
            "text/plain": [
              "<Figure size 698.976x432 with 1 Axes>"
            ],
            "image/png": "[encoded data removed]"
          },
          "metadata": {
            "needs_background": "light"
          }
        }
      ],
      "source": [
        "# Выбор важных признаков\n",
        "\n",
        "important_features = []\n",
        "for x,i in enumerate(forestmodel.feature_importances_):\n",
        "    if i>np.average(forestmodel.feature_importances_):\n",
        "        important_features.append(str(x))\n",
        "print (important_features)\n",
        "\n",
        "\n",
        "plt.figure(figsize=(6 * 1.618, 6))\n",
        "feature_import=forestmodel.feature_importances_\n",
        "index = np.arange(len(feature_import))\n",
        "plt.bar(index, feature_import, color='blue', alpha=0.6)\n",
        "plt.xlabel('features')\n",
        "plt.ylabel('importance')\n",
        "plt.xticks(index)\n",
        "plt.show()"
      ]
    },
    {
      "cell_type": "code",
      "source": [
        "X_train.info()"
      ],
      "metadata": {
        "id": "lOza-4LnQCc7",
        "colab": {
          "base_uri": "https://localhost:8080/"
        },
        "outputId": "5f799ebc-46af-4065-d250-e7fb21452656"
      },
      "execution_count": null,
      "outputs": [
        {
          "output_type": "stream",
          "name": "stdout",
          "text": [
            "<class 'pandas.core.frame.DataFrame'>\n",
            "Int64Index: 9322160 entries, 2373754 to 6423388\n",
            "Data columns (total 15 columns):\n",
            " #   Column                 Dtype  \n",
            "---  ------                 -----  \n",
            " 0   oper_type + oper_attr  int64  \n",
            " 1   index_oper             int32  \n",
            " 2   type                   int64  \n",
            " 3   priority               int8   \n",
            " 4   is_in_yandex           int8   \n",
            " 5   weight                 int32  \n",
            " 6   mailctg                int8   \n",
            " 7   directctg              int8   \n",
            " 8   transport_pay          float64\n",
            " 9   name_mfi               int64  \n",
            " 10  weight_mfi             int16  \n",
            " 11  price_mfi              int32  \n",
            " 12  is_wrong_sndr_name     int8   \n",
            " 13  class_mail             int8   \n",
            " 14  is_wrong_rcpn          int8   \n",
            "dtypes: float64(1), int16(1), int32(3), int64(3), int8(7)\n",
            "memory usage: 542.3 MB\n"
          ]
        }
      ]
    },
    {
      "cell_type": "markdown",
      "metadata": {
        "id": "cglFy7zolR-m"
      },
      "source": [
        "# DecisionTreeRegressor"
      ]
    },
    {
      "cell_type": "code",
      "execution_count": null,
      "metadata": {
        "id": "_uMbwimyx_YG"
      },
      "outputs": [],
      "source": [
        "from sklearn.tree import DecisionTreeClassifier\n",
        "treemodel = DecisionTreeClassifier(max_depth=12, random_state=42, min_samples_leaf=8)"
      ]
    },
    {
      "cell_type": "code",
      "source": [
        "count_metrics(treemodel)"
      ],
      "metadata": {
        "colab": {
          "base_uri": "https://localhost:8080/"
        },
        "id": "rBtJZykNRuWl",
        "outputId": "d07f26aa-5569-4423-f07f-08941446052f"
      },
      "execution_count": null,
      "outputs": [
        {
          "output_type": "stream",
          "name": "stdout",
          "text": [
            "Recall 0.9750813002823836\n",
            "ROC-AUC:  0.9826566486966745\n",
            "Result:  0.9818991138552453\n"
          ]
        },
        {
          "output_type": "display_data",
          "data": {
            "text/plain": [
              "<Figure size 432x288 with 2 Axes>"
            ],
            "image/png": "[encoded data removed]"
          },
          "metadata": {
            "needs_background": "light"
          }
        }
      ]
    },
    {
      "cell_type": "markdown",
      "metadata": {
        "id": "FHO-B_dR5viR"
      },
      "source": [
        "Посмотрим ведущие признаки"
      ]
    },
    {
      "cell_type": "code",
      "execution_count": null,
      "metadata": {
        "id": "vA19U0j75F7C",
        "colab": {
          "base_uri": "https://localhost:8080/"
        },
        "outputId": "b99ccde8-ef84-46b0-996f-bd3f13e6c651"
      },
      "outputs": [
        {
          "output_type": "execute_result",
          "data": {
            "text/plain": [
              "                 feature  importance\n",
              "0                   type    0.459373\n",
              "1  oper_type + oper_attr    0.293313\n",
              "2             index_oper    0.189956\n",
              "3             class_mail    0.047125\n",
              "4                mailctg    0.002540\n",
              "5          transport_pay    0.002222\n",
              "6              price_mfi    0.001127\n",
              "7           is_in_yandex    0.000929\n",
              "8                 weight    0.000875\n",
              "9               priority    0.000813"
            ],
            "text/html": [
              "\n",
              "  <div id=\"df-9b3d9cc7-a30f-4297-9f57-0b0c41e3985c\">\n",
              "    <div class=\"colab-df-container\">\n",
              "      <div>\n",
              "<style scoped>\n",
              "    .dataframe tbody tr th:only-of-type {\n",
              "        vertical-align: middle;\n",
              "    }\n",
              "\n",
              "    .dataframe tbody tr th {\n",
              "        vertical-align: top;\n",
              "    }\n",
              "\n",
              "    .dataframe thead th {\n",
              "        text-align: right;\n",
              "    }\n",
              "</style>\n",
              "<table border=\"1\" class=\"dataframe\">\n",
              "  <thead>\n",
              "    <tr style=\"text-align: right;\">\n",
              "      <th></th>\n",
              "      <th>feature</th>\n",
              "      <th>importance</th>\n",
              "    </tr>\n",
              "  </thead>\n",
              "  <tbody>\n",
              "    <tr>\n",
              "      <th>0</th>\n",
              "      <td>type</td>\n",
              "      <td>0.459373</td>\n",
              "    </tr>\n",
              "    <tr>\n",
              "      <th>1</th>\n",
              "      <td>oper_type + oper_attr</td>\n",
              "      <td>0.293313</td>\n",
              "    </tr>\n",
              "    <tr>\n",
              "      <th>2</th>\n",
              "      <td>index_oper</td>\n",
              "      <td>0.189956</td>\n",
              "    </tr>\n",
              "    <tr>\n",
              "      <th>3</th>\n",
              "      <td>class_mail</td>\n",
              "      <td>0.047125</td>\n",
              "    </tr>\n",
              "    <tr>\n",
              "      <th>4</th>\n",
              "      <td>mailctg</td>\n",
              "      <td>0.002540</td>\n",
              "    </tr>\n",
              "    <tr>\n",
              "      <th>5</th>\n",
              "      <td>transport_pay</td>\n",
              "      <td>0.002222</td>\n",
              "    </tr>\n",
              "    <tr>\n",
              "      <th>6</th>\n",
              "      <td>price_mfi</td>\n",
              "      <td>0.001127</td>\n",
              "    </tr>\n",
              "    <tr>\n",
              "      <th>7</th>\n",
              "      <td>is_in_yandex</td>\n",
              "      <td>0.000929</td>\n",
              "    </tr>\n",
              "    <tr>\n",
              "      <th>8</th>\n",
              "      <td>weight</td>\n",
              "      <td>0.000875</td>\n",
              "    </tr>\n",
              "    <tr>\n",
              "      <th>9</th>\n",
              "      <td>priority</td>\n",
              "      <td>0.000813</td>\n",
              "    </tr>\n",
              "  </tbody>\n",
              "</table>\n",
              "</div>\n",
              "      <button class=\"colab-df-convert\" onclick=\"convertToInteractive('df-9b3d9cc7-a30f-4297-9f57-0b0c41e3985c')\"\n",
              "              title=\"Convert this dataframe to an interactive table.\"\n",
              "              style=\"display:none;\">\n",
              "        \n",
              "  <svg xmlns=\"http://www.w3.org/2000/svg\" height=\"24px\"viewBox=\"0 0 24 24\"\n",
              "       width=\"24px\">\n",
              "    <path d=\"M0 0h24v24H0V0z\" fill=\"none\"/>\n",
              "    <path d=\"M18.56 5.44l.94 2.06.94-2.06 2.06-.94-2.06-.94-.94-2.06-.94 2.06-2.06.94zm-11 1L8.5 8.5l.94-2.06 2.06-.94-2.06-.94L8.5 2.5l-.94 2.06-2.06.94zm10 10l.94 2.06.94-2.06 2.06-.94-2.06-.94-.94-2.06-.94 2.06-2.06.94z\"/><path d=\"M17.41 7.96l-1.37-1.37c-.4-.4-.92-.59-1.43-.59-.52 0-1.04.2-1.43.59L10.3 9.45l-7.72 7.72c-.78.78-.78 2.05 0 2.83L4 21.41c.39.39.9.59 1.41.59.51 0 1.02-.2 1.41-.59l7.78-7.78 2.81-2.81c.8-.78.8-2.07 0-2.86zM5.41 20L4 18.59l7.72-7.72 1.47 1.35L5.41 20z\"/>\n",
              "  </svg>\n",
              "      </button>\n",
              "      \n",
              "  <style>\n",
              "    .colab-df-container {\n",
              "      display:flex;\n",
              "      flex-wrap:wrap;\n",
              "      gap: 12px;\n",
              "    }\n",
              "\n",
              "    .colab-df-convert {\n",
              "      background-color: #E8F0FE;\n",
              "      border: none;\n",
              "      border-radius: 50%;\n",
              "      cursor: pointer;\n",
              "      display: none;\n",
              "      fill: #1967D2;\n",
              "      height: 32px;\n",
              "      padding: 0 0 0 0;\n",
              "      width: 32px;\n",
              "    }\n",
              "\n",
              "    .colab-df-convert:hover {\n",
              "      background-color: #E2EBFA;\n",
              "      box-shadow: 0px 1px 2px rgba(60, 64, 67, 0.3), 0px 1px 3px 1px rgba(60, 64, 67, 0.15);\n",
              "      fill: #174EA6;\n",
              "    }\n",
              "\n",
              "    [theme=dark] .colab-df-convert {\n",
              "      background-color: #3B4455;\n",
              "      fill: #D2E3FC;\n",
              "    }\n",
              "\n",
              "    [theme=dark] .colab-df-convert:hover {\n",
              "      background-color: #434B5C;\n",
              "      box-shadow: 0px 1px 3px 1px rgba(0, 0, 0, 0.15);\n",
              "      filter: drop-shadow(0px 1px 2px rgba(0, 0, 0, 0.3));\n",
              "      fill: #FFFFFF;\n",
              "    }\n",
              "  </style>\n",
              "\n",
              "      <script>\n",
              "        const buttonEl =\n",
              "          document.querySelector('#df-9b3d9cc7-a30f-4297-9f57-0b0c41e3985c button.colab-df-convert');\n",
              "        buttonEl.style.display =\n",
              "          google.colab.kernel.accessAllowed ? 'block' : 'none';\n",
              "\n",
              "        async function convertToInteractive(key) {\n",
              "          const element = document.querySelector('#df-9b3d9cc7-a30f-4297-9f57-0b0c41e3985c');\n",
              "          const dataTable =\n",
              "            await google.colab.kernel.invokeFunction('convertToInteractive',\n",
              "                                                     [key], {});\n",
              "          if (!dataTable) return;\n",
              "\n",
              "          const docLinkHtml = 'Like what you see? Visit the ' +\n",
              "            '<a target=\"_blank\" href=https://colab.research.google.com/notebooks/data_table.ipynb>data table notebook</a>'\n",
              "            + ' to learn more about interactive tables.';\n",
              "          element.innerHTML = '';\n",
              "          dataTable['output_type'] = 'display_data';\n",
              "          await google.colab.output.renderOutput(dataTable, element);\n",
              "          const docLink = document.createElement('div');\n",
              "          docLink.innerHTML = docLinkHtml;\n",
              "          element.appendChild(docLink);\n",
              "        }\n",
              "      </script>\n",
              "    </div>\n",
              "  </div>\n",
              "  "
            ]
          },
          "metadata": {},
          "execution_count": 112
        }
      ],
      "source": [
        "importances = treemodel.feature_importances_\n",
        "feature_list = list(X_train.columns)\n",
        "feature_results = pd.DataFrame({'feature': feature_list,'importance': importances})\n",
        "feature_results = feature_results.sort_values('importance',ascending = False).reset_index(drop=True)\n",
        "\n",
        "feature_results.head(10)"
      ]
    },
    {
      "cell_type": "code",
      "execution_count": null,
      "metadata": {
        "id": "2CSMrszNf9Fm"
      },
      "outputs": [],
      "source": [
        "# tree = tree.export_graphviz(dtreeregmodel)\n",
        "# graph = graphviz.Source(tree)  \n",
        "# graph "
      ]
    },
    {
      "cell_type": "markdown",
      "metadata": {
        "id": "_LWOJET3maCm"
      },
      "source": [
        "# Gradient Boosting Classifier"
      ]
    },
    {
      "cell_type": "code",
      "source": [
        "from sklearn.ensemble import GradientBoostingClassifier\n",
        "gb = GradientBoostingClassifier(n_estimators=60, learning_rate=0.1,\n",
        "                                max_depth=5, random_state=42)"
      ],
      "metadata": {
        "id": "cbROBYpWSieR"
      },
      "execution_count": null,
      "outputs": []
    },
    {
      "cell_type": "code",
      "source": [
        "count_metrics(gb)"
      ],
      "metadata": {
        "colab": {
          "base_uri": "https://localhost:8080/",
          "height": 310
        },
        "id": "BnchA2MY2nuL",
        "outputId": "2b2a1aa5-2c71-4479-82e9-b4d0354d550b"
      },
      "execution_count": null,
      "outputs": [
        {
          "output_type": "error",
          "ename": "KeyboardInterrupt",
          "evalue": "ignored",
          "traceback": [
            "\u001b[0;31m---------------------------------------------------------------------------\u001b[0m",
            "\u001b[0;31mKeyboardInterrupt\u001b[0m                         Traceback (most recent call last)",
            "\u001b[0;32m<ipython-input-120-e4bb54eb5bd1>\u001b[0m in \u001b[0;36m<module>\u001b[0;34m\u001b[0m\n\u001b[0;32m----> 1\u001b[0;31m \u001b[0mcount_metrics\u001b[0m\u001b[0;34m(\u001b[0m\u001b[0mgb\u001b[0m\u001b[0;34m)\u001b[0m\u001b[0;34m\u001b[0m\u001b[0;34m\u001b[0m\u001b[0m\n\u001b[0m",
            "\u001b[0;32m<ipython-input-58-796fd316d131>\u001b[0m in \u001b[0;36mcount_metrics\u001b[0;34m(name_of_model)\u001b[0m\n\u001b[1;32m      2\u001b[0m \u001b[0;34m\u001b[0m\u001b[0m\n\u001b[1;32m      3\u001b[0m \u001b[0;32mdef\u001b[0m \u001b[0mcount_metrics\u001b[0m\u001b[0;34m(\u001b[0m\u001b[0mname_of_model\u001b[0m\u001b[0;34m)\u001b[0m\u001b[0;34m:\u001b[0m\u001b[0;34m\u001b[0m\u001b[0;34m\u001b[0m\u001b[0m\n\u001b[0;32m----> 4\u001b[0;31m     \u001b[0mname_of_model\u001b[0m\u001b[0;34m.\u001b[0m\u001b[0mfit\u001b[0m\u001b[0;34m(\u001b[0m\u001b[0mX_train\u001b[0m\u001b[0;34m,\u001b[0m \u001b[0my_train\u001b[0m\u001b[0;34m)\u001b[0m\u001b[0;34m\u001b[0m\u001b[0;34m\u001b[0m\u001b[0m\n\u001b[0m\u001b[1;32m      5\u001b[0m     \u001b[0;31m# y_pred=name_of_model.predict(X_train)\u001b[0m\u001b[0;34m\u001b[0m\u001b[0;34m\u001b[0m\u001b[0;34m\u001b[0m\u001b[0m\n\u001b[1;32m      6\u001b[0m     \u001b[0;31m# y_predict_proba_train = name_of_model.predict_proba(X_train)[:,1]\u001b[0m\u001b[0;34m\u001b[0m\u001b[0;34m\u001b[0m\u001b[0;34m\u001b[0m\u001b[0m\n",
            "\u001b[0;32m/usr/local/lib/python3.7/dist-packages/sklearn/ensemble/_gb.py\u001b[0m in \u001b[0;36mfit\u001b[0;34m(self, X, y, sample_weight, monitor)\u001b[0m\n\u001b[1;32m    594\u001b[0m             \u001b[0msample_weight_val\u001b[0m\u001b[0;34m,\u001b[0m\u001b[0;34m\u001b[0m\u001b[0;34m\u001b[0m\u001b[0m\n\u001b[1;32m    595\u001b[0m             \u001b[0mbegin_at_stage\u001b[0m\u001b[0;34m,\u001b[0m\u001b[0;34m\u001b[0m\u001b[0;34m\u001b[0m\u001b[0m\n\u001b[0;32m--> 596\u001b[0;31m             \u001b[0mmonitor\u001b[0m\u001b[0;34m,\u001b[0m\u001b[0;34m\u001b[0m\u001b[0;34m\u001b[0m\u001b[0m\n\u001b[0m\u001b[1;32m    597\u001b[0m         )\n\u001b[1;32m    598\u001b[0m \u001b[0;34m\u001b[0m\u001b[0m\n",
            "\u001b[0;32m/usr/local/lib/python3.7/dist-packages/sklearn/ensemble/_gb.py\u001b[0m in \u001b[0;36m_fit_stages\u001b[0;34m(self, X, y, raw_predictions, sample_weight, random_state, X_val, y_val, sample_weight_val, begin_at_stage, monitor)\u001b[0m\n\u001b[1;32m    670\u001b[0m                 \u001b[0mrandom_state\u001b[0m\u001b[0;34m,\u001b[0m\u001b[0;34m\u001b[0m\u001b[0;34m\u001b[0m\u001b[0m\n\u001b[1;32m    671\u001b[0m                 \u001b[0mX_csc\u001b[0m\u001b[0;34m,\u001b[0m\u001b[0;34m\u001b[0m\u001b[0;34m\u001b[0m\u001b[0m\n\u001b[0;32m--> 672\u001b[0;31m                 \u001b[0mX_csr\u001b[0m\u001b[0;34m,\u001b[0m\u001b[0;34m\u001b[0m\u001b[0;34m\u001b[0m\u001b[0m\n\u001b[0m\u001b[1;32m    673\u001b[0m             )\n\u001b[1;32m    674\u001b[0m \u001b[0;34m\u001b[0m\u001b[0m\n",
            "\u001b[0;32m/usr/local/lib/python3.7/dist-packages/sklearn/ensemble/_gb.py\u001b[0m in \u001b[0;36m_fit_stage\u001b[0;34m(self, i, X, y, raw_predictions, sample_weight, sample_mask, random_state, X_csc, X_csr)\u001b[0m\n\u001b[1;32m    244\u001b[0m \u001b[0;34m\u001b[0m\u001b[0m\n\u001b[1;32m    245\u001b[0m             \u001b[0mX\u001b[0m \u001b[0;34m=\u001b[0m \u001b[0mX_csr\u001b[0m \u001b[0;32mif\u001b[0m \u001b[0mX_csr\u001b[0m \u001b[0;32mis\u001b[0m \u001b[0;32mnot\u001b[0m \u001b[0;32mNone\u001b[0m \u001b[0;32melse\u001b[0m \u001b[0mX\u001b[0m\u001b[0;34m\u001b[0m\u001b[0;34m\u001b[0m\u001b[0m\n\u001b[0;32m--> 246\u001b[0;31m             \u001b[0mtree\u001b[0m\u001b[0;34m.\u001b[0m\u001b[0mfit\u001b[0m\u001b[0;34m(\u001b[0m\u001b[0mX\u001b[0m\u001b[0;34m,\u001b[0m \u001b[0mresidual\u001b[0m\u001b[0;34m,\u001b[0m \u001b[0msample_weight\u001b[0m\u001b[0;34m=\u001b[0m\u001b[0msample_weight\u001b[0m\u001b[0;34m,\u001b[0m \u001b[0mcheck_input\u001b[0m\u001b[0;34m=\u001b[0m\u001b[0;32mFalse\u001b[0m\u001b[0;34m)\u001b[0m\u001b[0;34m\u001b[0m\u001b[0;34m\u001b[0m\u001b[0m\n\u001b[0m\u001b[1;32m    247\u001b[0m \u001b[0;34m\u001b[0m\u001b[0m\n\u001b[1;32m    248\u001b[0m             \u001b[0;31m# update tree leaves\u001b[0m\u001b[0;34m\u001b[0m\u001b[0;34m\u001b[0m\u001b[0;34m\u001b[0m\u001b[0m\n",
            "\u001b[0;32m/usr/local/lib/python3.7/dist-packages/sklearn/tree/_classes.py\u001b[0m in \u001b[0;36mfit\u001b[0;34m(self, X, y, sample_weight, check_input, X_idx_sorted)\u001b[0m\n\u001b[1;32m   1318\u001b[0m             \u001b[0msample_weight\u001b[0m\u001b[0;34m=\u001b[0m\u001b[0msample_weight\u001b[0m\u001b[0;34m,\u001b[0m\u001b[0;34m\u001b[0m\u001b[0;34m\u001b[0m\u001b[0m\n\u001b[1;32m   1319\u001b[0m             \u001b[0mcheck_input\u001b[0m\u001b[0;34m=\u001b[0m\u001b[0mcheck_input\u001b[0m\u001b[0;34m,\u001b[0m\u001b[0;34m\u001b[0m\u001b[0;34m\u001b[0m\u001b[0m\n\u001b[0;32m-> 1320\u001b[0;31m             \u001b[0mX_idx_sorted\u001b[0m\u001b[0;34m=\u001b[0m\u001b[0mX_idx_sorted\u001b[0m\u001b[0;34m,\u001b[0m\u001b[0;34m\u001b[0m\u001b[0;34m\u001b[0m\u001b[0m\n\u001b[0m\u001b[1;32m   1321\u001b[0m         )\n\u001b[1;32m   1322\u001b[0m         \u001b[0;32mreturn\u001b[0m \u001b[0mself\u001b[0m\u001b[0;34m\u001b[0m\u001b[0;34m\u001b[0m\u001b[0m\n",
            "\u001b[0;32m/usr/local/lib/python3.7/dist-packages/sklearn/tree/_classes.py\u001b[0m in \u001b[0;36mfit\u001b[0;34m(self, X, y, sample_weight, check_input, X_idx_sorted)\u001b[0m\n\u001b[1;32m    418\u001b[0m             )\n\u001b[1;32m    419\u001b[0m \u001b[0;34m\u001b[0m\u001b[0m\n\u001b[0;32m--> 420\u001b[0;31m         \u001b[0mbuilder\u001b[0m\u001b[0;34m.\u001b[0m\u001b[0mbuild\u001b[0m\u001b[0;34m(\u001b[0m\u001b[0mself\u001b[0m\u001b[0;34m.\u001b[0m\u001b[0mtree_\u001b[0m\u001b[0;34m,\u001b[0m \u001b[0mX\u001b[0m\u001b[0;34m,\u001b[0m \u001b[0my\u001b[0m\u001b[0;34m,\u001b[0m \u001b[0msample_weight\u001b[0m\u001b[0;34m)\u001b[0m\u001b[0;34m\u001b[0m\u001b[0;34m\u001b[0m\u001b[0m\n\u001b[0m\u001b[1;32m    421\u001b[0m \u001b[0;34m\u001b[0m\u001b[0m\n\u001b[1;32m    422\u001b[0m         \u001b[0;32mif\u001b[0m \u001b[0mself\u001b[0m\u001b[0;34m.\u001b[0m\u001b[0mn_outputs_\u001b[0m \u001b[0;34m==\u001b[0m \u001b[0;36m1\u001b[0m \u001b[0;32mand\u001b[0m \u001b[0mis_classifier\u001b[0m\u001b[0;34m(\u001b[0m\u001b[0mself\u001b[0m\u001b[0;34m)\u001b[0m\u001b[0;34m:\u001b[0m\u001b[0;34m\u001b[0m\u001b[0;34m\u001b[0m\u001b[0m\n",
            "\u001b[0;31mKeyboardInterrupt\u001b[0m: "
          ]
        }
      ]
    },
    {
      "cell_type": "code",
      "source": [
        "# for i in range(, 100, 20):\n",
        "#   gb = GradientBoostingClassifier(n_estimators=40, random_state=42, max_depth=6, learning_rate=i)\n",
        "#   print('tree: ', i)\n",
        "#   count_metrics(gb)"
      ],
      "metadata": {
        "id": "2CcHs-0_SVrw"
      },
      "execution_count": null,
      "outputs": []
    },
    {
      "cell_type": "markdown",
      "source": [
        "#Light GBM"
      ],
      "metadata": {
        "id": "94YrjeriY-9_"
      }
    },
    {
      "cell_type": "code",
      "source": [
        "!pip install lightgbm\n",
        "import lightgbm as lgb\n",
        "from lightgbm import LGBMClassifier"
      ],
      "metadata": {
        "id": "uq3wTF0daH_4",
        "colab": {
          "base_uri": "https://localhost:8080/"
        },
        "outputId": "6c749b0c-f665-4fb7-c736-9dc8b34c9bc9"
      },
      "execution_count": null,
      "outputs": [
        {
          "output_type": "stream",
          "name": "stdout",
          "text": [
            "Looking in indexes: https://pypi.org/simple, https://us-python.pkg.dev/colab-wheels/public/simple/\n",
            "Requirement already satisfied: lightgbm in /usr/local/lib/python3.7/dist-packages (2.2.3)\n",
            "Requirement already satisfied: numpy in /usr/local/lib/python3.7/dist-packages (from lightgbm) (1.21.6)\n",
            "Requirement already satisfied: scipy in /usr/local/lib/python3.7/dist-packages (from lightgbm) (1.7.3)\n",
            "Requirement already satisfied: scikit-learn in /usr/local/lib/python3.7/dist-packages (from lightgbm) (1.0.2)\n",
            "Requirement already satisfied: joblib>=0.11 in /usr/local/lib/python3.7/dist-packages (from scikit-learn->lightgbm) (1.2.0)\n",
            "Requirement already satisfied: threadpoolctl>=2.0.0 in /usr/local/lib/python3.7/dist-packages (from scikit-learn->lightgbm) (3.1.0)\n"
          ]
        }
      ]
    },
    {
      "cell_type": "code",
      "source": [
        "lgbm = LGBMClassifier(n_estimators = 70, random_state=42) #  (cat_features = cat_feat)"
      ],
      "metadata": {
        "id": "6BnCVTwJWi83"
      },
      "execution_count": null,
      "outputs": []
    },
    {
      "cell_type": "code",
      "source": [
        "count_metrics(lgbm)"
      ],
      "metadata": {
        "colab": {
          "base_uri": "https://localhost:8080/",
          "height": 331
        },
        "id": "Klf9Yr8dXpo3",
        "outputId": "6fc28b74-38ea-48d7-cf37-83c320a8f3ed"
      },
      "execution_count": null,
      "outputs": [
        {
          "output_type": "stream",
          "name": "stdout",
          "text": [
            "Recall 0.9774166219672238\n",
            "ROC-AUC:  0.9918445553911069\n",
            "Result:  0.9904017620487187\n"
          ]
        },
        {
          "output_type": "display_data",
          "data": {
            "text/plain": [
              "<Figure size 432x288 with 2 Axes>"
            ],
            "image/png": "[encoded data removed]"
          },
          "metadata": {
            "needs_background": "light"
          }
        }
      ]
    },
    {
      "cell_type": "markdown",
      "source": [
        "# XGBoost"
      ],
      "metadata": {
        "id": "rE5PWwWG0YTM"
      }
    },
    {
      "cell_type": "code",
      "source": [
        "!pip install xgboost"
      ],
      "metadata": {
        "colab": {
          "base_uri": "https://localhost:8080/"
        },
        "id": "FWYr7XElZVaO",
        "outputId": "36406b7e-b66e-4ef4-ca85-3ece0b2ff51c"
      },
      "execution_count": null,
      "outputs": [
        {
          "output_type": "stream",
          "name": "stdout",
          "text": [
            "Looking in indexes: https://pypi.org/simple, https://us-python.pkg.dev/colab-wheels/public/simple/\n",
            "Requirement already satisfied: xgboost in /usr/local/lib/python3.7/dist-packages (0.90)\n",
            "Requirement already satisfied: scipy in /usr/local/lib/python3.7/dist-packages (from xgboost) (1.7.3)\n",
            "Requirement already satisfied: numpy in /usr/local/lib/python3.7/dist-packages (from xgboost) (1.21.6)\n"
          ]
        }
      ]
    },
    {
      "cell_type": "code",
      "source": [
        "import xgboost as xgb"
      ],
      "metadata": {
        "id": "p8asTLZYZY9Y"
      },
      "execution_count": null,
      "outputs": []
    },
    {
      "cell_type": "code",
      "source": [
        "xgboost = xgb.XGBClassifier(n_estimators = 50, max_depth=8, learning_rate=0.1)"
      ],
      "metadata": {
        "id": "rKV24ur6ZcKu"
      },
      "execution_count": null,
      "outputs": []
    },
    {
      "cell_type": "code",
      "source": [
        "xgboost.fit(X_train, y_train)"
      ],
      "metadata": {
        "id": "AC2qFy7Q_mUX"
      },
      "execution_count": null,
      "outputs": []
    },
    {
      "cell_type": "code",
      "source": [
        "count_metrics(xgboost)"
      ],
      "metadata": {
        "colab": {
          "base_uri": "https://localhost:8080/"
        },
        "id": "fRZQOSrRZmeO",
        "outputId": "5e22b07a-0d1c-4301-b8b9-7109cd170527"
      },
      "execution_count": null,
      "outputs": [
        {
          "output_type": "stream",
          "name": "stdout",
          "text": [
            "Recall 0.9754305940332149\n",
            "ROC-AUC:  0.9840652347025368\n",
            "Result:  0.9832017706356047\n"
          ]
        },
        {
          "output_type": "display_data",
          "data": {
            "text/plain": [
              "<Figure size 432x288 with 2 Axes>"
            ],
            "image/png": "[encoded data removed]"
          },
          "metadata": {
            "needs_background": "light"
          }
        }
      ]
    },
    {
      "cell_type": "code",
      "source": [
        "xgb.plot_importance(xgboost)\n",
        "plt.rcParams['figure.figsize'] = [5, 3]\n",
        "plt.show()"
      ],
      "metadata": {
        "id": "sCGxpo3ZuNr8"
      },
      "execution_count": null,
      "outputs": []
    },
    {
      "cell_type": "code",
      "source": [
        "for i in range(80, 300, 50):\n",
        "  xgb = GradientBoostingClassifier(n_estimators=i, random_state=42, max_depth=6, learning_rate=0.1)\n",
        "  print('tree: ', i)\n",
        "  count_metrics(xgb)"
      ],
      "metadata": {
        "id": "t9C7s9E_aWlK"
      },
      "execution_count": null,
      "outputs": []
    },
       
    {
      "cell_type": "markdown",
      "source": [
        "# TEST"
      ],
      "metadata": {
        "id": "RUGPIuA3c8ic"
      }
    },
    {
      "cell_type": "code",
      "source": [
        "df_valid = pd.read_csv('/content/drive/MyDrive/test_dataset_pochta.csv')"
      ],
      "metadata": {
        "colab": {
          "base_uri": "https://localhost:8080/"
        },
        "id": "vSywUElFtJSA",
        "outputId": "d721f9cd-ab36-4fa1-804c-18842c96b0b7"
      },
      "execution_count": null,
      "outputs": [
        {
          "output_type": "stream",
          "name": "stderr",
          "text": [
            "/usr/local/lib/python3.7/dist-packages/IPython/core/interactiveshell.py:3326: DtypeWarning: Columns (2) have mixed types.Specify dtype option on import or set low_memory=False.\n",
            "  exec(code_obj, self.user_global_ns, self.user_ns)\n"
          ]
        }
      ]
    },
    {
      "cell_type": "code",
      "source": [
        "df_valid= df_valid.drop(columns=['id',\t'postmark', 'mailrank'])\n",
        "df_valid.loc[(df_valid.transport_pay > 0), 'transport_pay'] = 1\n",
        "df_valid = df_valid.drop(columns=['is_return'])\n",
        "df_valid = df_valid.drop(columns=['is_privatecategory'])\n",
        "df_valid['is_in_yandex'] = df_valid['is_in_yandex'].replace('0', 0)\n",
        "df_valid['is_in_yandex'] = df_valid['is_in_yandex'].replace('Y', 1)\n",
        "df_valid['is_in_yandex'] = df_valid['is_in_yandex'].replace('N', 0)            \n",
        "df_valid= df_valid.drop(columns=['mailtype'])\n",
        "df_valid['class_mail'] = df_valid['class']\n",
        "df_valid = df_valid.drop('class', axis=1) \n",
        "df_valid.loc[(df_valid.class_mail > 0), 'class_mail'] = 1\n",
        "df_valid = df_valid.drop(columns = ['total_qty_over_index', 'total_qty_over_index_and_type', 'dist_qty_oper_login_1',\n",
        "                                    'total_qty_oper_login_1', 'total_qty_oper_login_0'])"
      ],
      "metadata": {
        "id": "hDs32eiaoJzP"
      },
      "execution_count": null,
      "outputs": []
    },
    {
      "cell_type": "code",
      "source": [
        "df_valid.index_oper = pd.to_numeric(df_valid.index_oper, errors= 'coerce').fillna(0).astype(np.int64)\n",
        "df_valid['weight_mfi'] = df_valid['weight_mfi'].astype(np.int64)\n",
        "df_valid['price_mfi'] = df_valid['price_mfi'].astype(np.int64)\n",
        "df_valid['weight'] = df_valid['weight'].astype(np.int64)\n",
        "df_valid['priority'] = df_valid['priority'].astype(np.int8)\n",
        "df_valid['class_mail'] = df_valid['class_mail'].astype(np.int8)\n",
        "df_valid['mailctg'] = df_valid['mailctg'].astype(np.int8)\n",
        "df_valid['directctg'] = df_valid['directctg'].astype(np.int8)\n",
        "\n",
        "num_feat = df_valid.select_dtypes('int64')\n",
        "for el in num_feat:\n",
        "    for n_type in (np.int32, np.int16, np.int8):\n",
        "        if (df_valid[el] == df_valid[el].astype(n_type)).sum() == len(df_valid):\n",
        "            df_valid[el] = df_valid[el].astype(n_type)\n"
      ],
      "metadata": {
        "id": "GThCCvNbsK2k"
      },
      "execution_count": null,
      "outputs": []
    },
    {
      "cell_type": "code",
      "source": [
        "df_valid.name_mfi = df_valid.name_mfi.str.lower()"
      ],
      "metadata": {
        "id": "o9Zkf1lWHken"
      },
      "execution_count": null,
      "outputs": []
    },
    {
      "cell_type": "code",
      "source": [
        "df_valid['is_wrong_rcpn'] = df_valid['is_wrong_rcpn_name'] + df_valid['is_wrong_phone_number'] + df_valid['is_wrong_address']\n",
        "df_valid = df_valid.drop(columns = ['is_wrong_rcpn_name', 'is_wrong_phone_number', 'is_wrong_address'])\n"
      ],
      "metadata": {
        "id": "zs3a9ppGe6Qk"
      },
      "execution_count": null,
      "outputs": []
    },
    {
      "cell_type": "code",
      "source": [
        "df_valid.loc[(df_valid.is_wrong_rcpn > 0), 'is_wrong_rcpn'] = 1"
      ],
      "metadata": {
        "id": "ZIYRpPnHfatM"
      },
      "execution_count": null,
      "outputs": []
    },
    {
      "cell_type": "code",
      "source": [
        "cat_feat = df_valid.select_dtypes(include='object')\n",
        "df_valid['type'] = df_valid['type'].replace(0, 'unknown')\n",
        "df_valid['name_mfi'] = df_valid['name_mfi'].replace(0, 'unknown')\n",
        "df_valid['oper_type + oper_attr'] = df_valid['oper_type + oper_attr'].replace(0, 'unknown')\n",
        "cat_feat.describe()\n"
      ],
      "metadata": {
        "colab": {
          "base_uri": "https://localhost:8080/",
          "height": 175
        },
        "id": "-LnACjVdtgfT",
        "outputId": "d3168857-9838-4fe5-88e6-4071f144a22a"
      },
      "execution_count": null,
      "outputs": [
        {
          "output_type": "execute_result",
          "data": {
            "text/plain": [
              "       oper_type + oper_attr     type name_mfi\n",
              "count                4000000  4000000  4000000\n",
              "unique                   102       20   195628\n",
              "top                  1020_-1      Цех        0\n",
              "freq                  461403  1395154   544856"
            ],
            "text/html": [
              "\n",
              "  <div id=\"df-88e948bd-c040-4453-a510-fa9ac349f07d\">\n",
              "    <div class=\"colab-df-container\">\n",
              "      <div>\n",
              "<style scoped>\n",
              "    .dataframe tbody tr th:only-of-type {\n",
              "        vertical-align: middle;\n",
              "    }\n",
              "\n",
              "    .dataframe tbody tr th {\n",
              "        vertical-align: top;\n",
              "    }\n",
              "\n",
              "    .dataframe thead th {\n",
              "        text-align: right;\n",
              "    }\n",
              "</style>\n",
              "<table border=\"1\" class=\"dataframe\">\n",
              "  <thead>\n",
              "    <tr style=\"text-align: right;\">\n",
              "      <th></th>\n",
              "      <th>oper_type + oper_attr</th>\n",
              "      <th>type</th>\n",
              "      <th>name_mfi</th>\n",
              "    </tr>\n",
              "  </thead>\n",
              "  <tbody>\n",
              "    <tr>\n",
              "      <th>count</th>\n",
              "      <td>4000000</td>\n",
              "      <td>4000000</td>\n",
              "      <td>4000000</td>\n",
              "    </tr>\n",
              "    <tr>\n",
              "      <th>unique</th>\n",
              "      <td>102</td>\n",
              "      <td>20</td>\n",
              "      <td>195628</td>\n",
              "    </tr>\n",
              "    <tr>\n",
              "      <th>top</th>\n",
              "      <td>1020_-1</td>\n",
              "      <td>Цех</td>\n",
              "      <td>0</td>\n",
              "    </tr>\n",
              "    <tr>\n",
              "      <th>freq</th>\n",
              "      <td>461403</td>\n",
              "      <td>1395154</td>\n",
              "      <td>544856</td>\n",
              "    </tr>\n",
              "  </tbody>\n",
              "</table>\n",
              "</div>\n",
              "      <button class=\"colab-df-convert\" onclick=\"convertToInteractive('df-88e948bd-c040-4453-a510-fa9ac349f07d')\"\n",
              "              title=\"Convert this dataframe to an interactive table.\"\n",
              "              style=\"display:none;\">\n",
              "        \n",
              "  <svg xmlns=\"http://www.w3.org/2000/svg\" height=\"24px\"viewBox=\"0 0 24 24\"\n",
              "       width=\"24px\">\n",
              "    <path d=\"M0 0h24v24H0V0z\" fill=\"none\"/>\n",
              "    <path d=\"M18.56 5.44l.94 2.06.94-2.06 2.06-.94-2.06-.94-.94-2.06-.94 2.06-2.06.94zm-11 1L8.5 8.5l.94-2.06 2.06-.94-2.06-.94L8.5 2.5l-.94 2.06-2.06.94zm10 10l.94 2.06.94-2.06 2.06-.94-2.06-.94-.94-2.06-.94 2.06-2.06.94z\"/><path d=\"M17.41 7.96l-1.37-1.37c-.4-.4-.92-.59-1.43-.59-.52 0-1.04.2-1.43.59L10.3 9.45l-7.72 7.72c-.78.78-.78 2.05 0 2.83L4 21.41c.39.39.9.59 1.41.59.51 0 1.02-.2 1.41-.59l7.78-7.78 2.81-2.81c.8-.78.8-2.07 0-2.86zM5.41 20L4 18.59l7.72-7.72 1.47 1.35L5.41 20z\"/>\n",
              "  </svg>\n",
              "      </button>\n",
              "      \n",
              "  <style>\n",
              "    .colab-df-container {\n",
              "      display:flex;\n",
              "      flex-wrap:wrap;\n",
              "      gap: 12px;\n",
              "    }\n",
              "\n",
              "    .colab-df-convert {\n",
              "      background-color: #E8F0FE;\n",
              "      border: none;\n",
              "      border-radius: 50%;\n",
              "      cursor: pointer;\n",
              "      display: none;\n",
              "      fill: #1967D2;\n",
              "      height: 32px;\n",
              "      padding: 0 0 0 0;\n",
              "      width: 32px;\n",
              "    }\n",
              "\n",
              "    .colab-df-convert:hover {\n",
              "      background-color: #E2EBFA;\n",
              "      box-shadow: 0px 1px 2px rgba(60, 64, 67, 0.3), 0px 1px 3px 1px rgba(60, 64, 67, 0.15);\n",
              "      fill: #174EA6;\n",
              "    }\n",
              "\n",
              "    [theme=dark] .colab-df-convert {\n",
              "      background-color: #3B4455;\n",
              "      fill: #D2E3FC;\n",
              "    }\n",
              "\n",
              "    [theme=dark] .colab-df-convert:hover {\n",
              "      background-color: #434B5C;\n",
              "      box-shadow: 0px 1px 3px 1px rgba(0, 0, 0, 0.15);\n",
              "      filter: drop-shadow(0px 1px 2px rgba(0, 0, 0, 0.3));\n",
              "      fill: #FFFFFF;\n",
              "    }\n",
              "  </style>\n",
              "\n",
              "      <script>\n",
              "        const buttonEl =\n",
              "          document.querySelector('#df-88e948bd-c040-4453-a510-fa9ac349f07d button.colab-df-convert');\n",
              "        buttonEl.style.display =\n",
              "          google.colab.kernel.accessAllowed ? 'block' : 'none';\n",
              "\n",
              "        async function convertToInteractive(key) {\n",
              "          const element = document.querySelector('#df-88e948bd-c040-4453-a510-fa9ac349f07d');\n",
              "          const dataTable =\n",
              "            await google.colab.kernel.invokeFunction('convertToInteractive',\n",
              "                                                     [key], {});\n",
              "          if (!dataTable) return;\n",
              "\n",
              "          const docLinkHtml = 'Like what you see? Visit the ' +\n",
              "            '<a target=\"_blank\" href=https://colab.research.google.com/notebooks/data_table.ipynb>data table notebook</a>'\n",
              "            + ' to learn more about interactive tables.';\n",
              "          element.innerHTML = '';\n",
              "          dataTable['output_type'] = 'display_data';\n",
              "          await google.colab.output.renderOutput(dataTable, element);\n",
              "          const docLink = document.createElement('div');\n",
              "          docLink.innerHTML = docLinkHtml;\n",
              "          element.appendChild(docLink);\n",
              "        }\n",
              "      </script>\n",
              "    </div>\n",
              "  </div>\n",
              "  "
            ]
          },
          "metadata": {},
          "execution_count": 69
        }
      ]
    },
    {
      "cell_type": "code",
      "source": [
        "for columns in cat_feat:\n",
        "  encoder = preprocessing.LabelEncoder()\n",
        "  encoder = encoder.fit(df_valid[columns])\n",
        "  df_valid[columns] = encoder.transform(df_valid[columns])"
      ],
      "metadata": {
        "id": "J5FYJOxWtz-8"
      },
      "execution_count": null,
      "outputs": []
    },
    {
      "cell_type": "code",
      "source": [
        "# minmax = MinMaxScaler()\n",
        "# scaled_minmax = minmax.fit_transform(df_valid)\n",
        "# df_valid= pd.DataFrame(scaled_minmax, columns = df_valid.columns)"
      ],
      "metadata": {
        "id": "P0gZHBD3wca4"
      },
      "execution_count": null,
      "outputs": []
    },
    {
      "cell_type": "code",
      "source": [
        "df_valid.shape"
      ],
      "metadata": {
        "id": "Fql7uNdwrIYC"
      },
      "execution_count": null,
      "outputs": []
    },
    {
      "cell_type": "code",
      "source": [
        "label = forestmodel.predict(df_valid)"
      ],
      "metadata": {
        "id": "bghlkgFFn3Cd"
      },
      "execution_count": null,
      "outputs": []
    },
    {
      "cell_type": "code",
      "source": [
        "label.shape"
      ],
      "metadata": {
        "id": "hWuod5pZwzGv"
      },
      "execution_count": null,
      "outputs": []
    },
    {
      "cell_type": "code",
      "source": [
        "df_valid = pd.read_csv('/content/drive/MyDrive/test_dataset_pochta.csv')"
      ],
      "metadata": {
        "id": "5GJuwCazpOoT"
      },
      "execution_count": null,
      "outputs": []
    },
    {
      "cell_type": "code",
      "source": [
        "answer = []\n",
        "my_answer = pd.DataFrame(data=answer)\n",
        "my_answer['label'] = pd.DataFrame(data=label)"
      ],
      "metadata": {
        "id": "3dA0Asp0v6Is"
      },
      "execution_count": null,
      "outputs": []
    },
    {
      "cell_type": "code",
      "source": [
        "my_answer = df_valid.join(my_answer)"
      ],
      "metadata": {
        "id": "NKVG9sSAtJQQ"
      },
      "execution_count": null,
      "outputs": []
    },
    {
      "cell_type": "code",
      "source": [
        "my_answer = my_answer[['id', 'label']]"
      ],
      "metadata": {
        "id": "qHQCLuG8oYul"
      },
      "execution_count": null,
      "outputs": []
    },
    {
      "cell_type": "code",
      "source": [
        "my_answer"
      ],
      "metadata": {
        "id": "miBO1DDtwrL7"
      },
      "execution_count": null,
      "outputs": []
    },
    {
      "cell_type": "code",
      "source": [
        "my_answer.label.value_counts()"
      ],
      "metadata": {
        "id": "9QwO4XYw1zsC"
      },
      "execution_count": null,
      "outputs": []
    },
    {
      "cell_type": "code",
      "source": [
        "my_answer.to_csv('solution_RF.csv',index=False)"
      ],
      "metadata": {
        "id": "iEG0nkZAn_Ay"
      },
      "execution_count": null,
      "outputs": []
    },
    {
      "cell_type": "code",
      "source": [],
      "metadata": {
        "id": "Z7Y9FlKnVsj4"
      },
      "execution_count": null,
      "outputs": []
    }
  ],
  "metadata": {
    "colab": {
      "collapsed_sections": [
        "jFxeVTRd54gI",
        "whsCD3el6plD",
        "PbYVnUYSzHmy",
        "cglFy7zolR-m",
        "_LWOJET3maCm",
        "94YrjeriY-9_",
        "rE5PWwWG0YTM",
        "9-B0NbODlq4B"
      ],
      "provenance": [],
      "name": "Pochta.ipynb"
    },
    "kernelspec": {
      "display_name": "Python 3",
      "name": "python3"
    },
    "language_info": {
      "name": "python"
    }
  },
  "nbformat": 4,
  "nbformat_minor": 0
}
